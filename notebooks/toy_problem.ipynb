{
 "cells": [
  {
   "cell_type": "code",
   "execution_count": null,
   "id": "73f405fc",
   "metadata": {},
   "outputs": [],
   "source": [
    "%matplotlib notebook\n",
    "%load_ext autoreload\n",
    "%autoreload 2"
   ]
  },
  {
   "cell_type": "code",
   "execution_count": null,
   "id": "91b70de9",
   "metadata": {},
   "outputs": [],
   "source": [
    "import numpy as np\n",
    "import cvxpy as cp\n",
    "import matplotlib.pyplot as plt\n",
    "\n",
    "from gcspy.graph_of_convex_sets import GraphOfConvexSets\n",
    "from gcspy.shortest_path_problem import ShortestPathProblem"
   ]
  },
  {
   "cell_type": "code",
   "execution_count": null,
   "id": "9508f3e6",
   "metadata": {},
   "outputs": [],
   "source": [
    "# Initialize graph.\n",
    "gcs = GraphOfConvexSets()\n",
    "\n",
    "# Add vertices.\n",
    "u = gcs.add_vertex('u')\n",
    "v = gcs.add_vertex('v')\n",
    "w = gcs.add_vertex('w')\n",
    "\n",
    "# Add continuous variables.\n",
    "xu = u.add_variable(2)\n",
    "xv = v.add_variable(2)\n",
    "xw = w.add_variable(2)\n",
    "\n",
    "# Constraints on the vertices.\n",
    "u.add_constraint(xu <= 0)\n",
    "u.add_constraint(xu >= -.1)\n",
    "v.add_constraint(xv >= .4)\n",
    "v.add_constraint(xv <= .6)\n",
    "w.add_constraint(xw == 1)\n",
    "\n",
    "# Add edges.\n",
    "e = gcs.add_edge(u, v)\n",
    "f = gcs.add_edge(u, w)\n",
    "g = gcs.add_edge(v, w)\n",
    "h = gcs.add_edge(w, v)\n",
    "\n",
    "# Costs on the edges.\n",
    "P = np.eye(2)\n",
    "e.add_length(cp.quad_form(xv - xu, P))\n",
    "f.add_length(cp.quad_form(xw - xu, P))\n",
    "g.add_length(cp.quad_form(xw - xv, P))\n",
    "h.add_length(cp.norm(xv - xw, 2))"
   ]
  },
  {
   "cell_type": "code",
   "execution_count": null,
   "id": "30eb5943",
   "metadata": {},
   "outputs": [],
   "source": [
    "gcs.graphviz()"
   ]
  },
  {
   "cell_type": "code",
   "execution_count": null,
   "id": "a3272615",
   "metadata": {},
   "outputs": [],
   "source": [
    "spp = ShortestPathProblem(gcs)\n",
    "sol = spp.solve(u, w, relaxation=1)"
   ]
  },
  {
   "cell_type": "code",
   "execution_count": null,
   "id": "8090e10a",
   "metadata": {},
   "outputs": [],
   "source": [
    "plt.figure()\n",
    "for v in gcs.vertices:\n",
    "    v.plot(sol.x[v])\n",
    "for e in gcs.edges:\n",
    "    color = 'b' if np.isclose(sol.y[e], 1) else 'k'\n",
    "    e.plot(sol.x[e.u], sol.x[e.v], color=color)"
   ]
  },
  {
   "cell_type": "code",
   "execution_count": null,
   "id": "5a23f2ed",
   "metadata": {},
   "outputs": [],
   "source": []
  }
 ],
 "metadata": {
  "kernelspec": {
   "display_name": "Python 3",
   "language": "python",
   "name": "python3"
  },
  "language_info": {
   "codemirror_mode": {
    "name": "ipython",
    "version": 3
   },
   "file_extension": ".py",
   "mimetype": "text/x-python",
   "name": "python",
   "nbconvert_exporter": "python",
   "pygments_lexer": "ipython3",
   "version": "3.9.10"
  }
 },
 "nbformat": 4,
 "nbformat_minor": 5
}
