{
 "cells": [
  {
   "cell_type": "code",
   "execution_count": null,
   "id": "dfd76f13",
   "metadata": {},
   "outputs": [],
   "source": [
    "%matplotlib notebook\n",
    "%load_ext autoreload\n",
    "%autoreload 2"
   ]
  },
  {
   "cell_type": "code",
   "execution_count": null,
   "id": "ffbeecf3",
   "metadata": {},
   "outputs": [],
   "source": [
    "import cvxpy as cp\n",
    "import numpy as np\n",
    "from gcspy import GraphOfConvexSets"
   ]
  },
  {
   "cell_type": "code",
   "execution_count": null,
   "id": "9d1746f9",
   "metadata": {},
   "outputs": [],
   "source": [
    "gcs = GraphOfConvexSets()\n",
    "\n",
    "s = gcs.add_vertex(\"s\")\n",
    "xs = s.add_variable(2)\n",
    "cs = np.array([0, 0])\n",
    "Ds = np.diag([2, 1])\n",
    "s.add_constraint(cp.norm(Ds @ (xs - cs), 2) <= 2)\n",
    "\n",
    "v1 = gcs.add_vertex(\"v1\")\n",
    "x1 = v1.add_variable(2)\n",
    "c1 = np.array([3, 2])\n",
    "v1.add_constraint(cp.norm(x1 - c1, np.inf) <= 1)\n",
    "\n",
    "v2 = gcs.add_vertex(\"v2\")\n",
    "x2 = v2.add_variable(2)\n",
    "c2 = np.array([4.5, -2])\n",
    "v2.add_constraint(cp.norm(x2 - c2, 1) <= 1.5)\n",
    "v2.add_constraint(cp.norm(x2 - c2, 2) <= 1.2)\n",
    "\n",
    "v3 = gcs.add_vertex(\"v3\")\n",
    "x3 = v3.add_variable(2)\n",
    "c3 = np.array([6, 2])\n",
    "v3.add_constraint(cp.norm(x3 - c3, 2) <= 1)\n",
    "\n",
    "t = gcs.add_vertex(\"t\")\n",
    "xt = t.add_variable(2)\n",
    "ct = np.array([9, 0])\n",
    "Dt = np.diag([1, 2])\n",
    "t.add_constraint(cp.norm(Dt @ (xt - ct), 2) <= 2)\n",
    "# t.add_constraint(sum(xt) >= sum(ct))\n",
    "t.add_constraint(xt[0] <= ct[0])"
   ]
  },
  {
   "cell_type": "code",
   "execution_count": null,
   "id": "e76327da",
   "metadata": {},
   "outputs": [],
   "source": [
    "sv1 = gcs.add_edge(s, v1)\n",
    "sv2 = gcs.add_edge(s, v2)\n",
    "v1v2 = gcs.add_edge(v1, v2)\n",
    "v1v3 = gcs.add_edge(v1, v3)\n",
    "v2t = gcs.add_edge(v2, t)\n",
    "v2v3 = gcs.add_edge(v2, v3)\n",
    "v3t = gcs.add_edge(v3, t)\n",
    "\n",
    "sv1.add_cost(cp.norm(xs - x1, 2))\n",
    "sv2.add_cost(cp.norm(xs - x2, 2))\n",
    "v1v2.add_cost(cp.norm(x1 - x2, 2))\n",
    "v1v3.add_cost(cp.norm(x1 - x3, 2))\n",
    "v2t.add_cost(cp.norm(x2 - xt, 2))\n",
    "v2v3.add_cost(cp.norm(x2 - x3, 2))\n",
    "v3t.add_cost(cp.norm(x3 - xt, 2))"
   ]
  },
  {
   "cell_type": "code",
   "execution_count": null,
   "id": "32d48e4e",
   "metadata": {},
   "outputs": [],
   "source": [
    "from gcspy import graphviz_gcs\n",
    "graphviz_gcs(gcs)"
   ]
  },
  {
   "cell_type": "code",
   "execution_count": null,
   "id": "46d02adf",
   "metadata": {},
   "outputs": [],
   "source": [
    "prob = gcs.shortest_path(s, t)\n",
    "print('Problem status:', prob.status)\n",
    "print('Optimal value:', prob.value)\n",
    "print('Vertex binaries:', {vertex.name: round(vertex.value, 4) for vertex in gcs.vertices})\n",
    "print('Edge binaries:', {edge.name: round(edge.value, 4) for edge in gcs.edges})"
   ]
  },
  {
   "cell_type": "code",
   "execution_count": null,
   "id": "fdc452ff",
   "metadata": {
    "scrolled": false
   },
   "outputs": [],
   "source": [
    "import matplotlib.pyplot as plt\n",
    "from gcspy import plot_gcs_2d, plot_solution_2d\n",
    "\n",
    "plt.figure()\n",
    "plot_gcs_2d(gcs)\n",
    "plot_solution_2d(gcs)"
   ]
  },
  {
   "cell_type": "code",
   "execution_count": null,
   "id": "8ac8813b",
   "metadata": {},
   "outputs": [],
   "source": []
  }
 ],
 "metadata": {
  "kernelspec": {
   "display_name": "Python 3 (ipykernel)",
   "language": "python",
   "name": "python3"
  },
  "language_info": {
   "codemirror_mode": {
    "name": "ipython",
    "version": 3
   },
   "file_extension": ".py",
   "mimetype": "text/x-python",
   "name": "python",
   "nbconvert_exporter": "python",
   "pygments_lexer": "ipython3",
   "version": "3.11.2"
  }
 },
 "nbformat": 4,
 "nbformat_minor": 5
}
