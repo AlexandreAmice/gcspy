{
 "cells": [
  {
   "cell_type": "code",
   "execution_count": null,
   "id": "dfd76f13",
   "metadata": {},
   "outputs": [],
   "source": [
    "%matplotlib notebook\n",
    "%load_ext autoreload\n",
    "%autoreload 2"
   ]
  },
  {
   "cell_type": "code",
   "execution_count": null,
   "id": "ffbeecf3",
   "metadata": {},
   "outputs": [],
   "source": [
    "import cvxpy as cp\n",
    "import numpy as np\n",
    "import matplotlib.pyplot as plt\n",
    "from gcspy import GraphOfConvexSets"
   ]
  },
  {
   "cell_type": "code",
   "execution_count": null,
   "id": "8e733ca3",
   "metadata": {},
   "outputs": [],
   "source": [
    "mesh = np.array([\n",
    "    [[1, 0], [0, 2], [0, 1]],\n",
    "    [[1, 0], [0, 2], [1, 3]],\n",
    "    [[1, 0], [2, 0], [1, 3]],\n",
    "    [[3, 1], [2, 0], [1, 3]],\n",
    "    [[3, 1], [3, 3], [1, 3]],\n",
    "    [[3, 1], [3, 3], [5, 3]],\n",
    "    [[3, 1], [5, 3], [5, 1]],\n",
    "    [[7, 1], [5, 3], [5, 1]],\n",
    "    [[7, 3], [5, 3], [7, 1]],\n",
    "    [[7, 3], [9, 3], [7, 1]],\n",
    "    [[9, 3], [9, 1], [7, 1]],\n",
    "    [[13, 1], [9, 3], [9, 1]],\n",
    "    [[13, 1], [9, 3], [14, 3]],\n",
    "    [[10, 5], [9, 3], [14, 3]],\n",
    "    [[10, 5], [14, 5], [14, 3]],\n",
    "    [[10, 5], [14, 5], [11, 6]],\n",
    "    [[13, 6], [14, 5], [11, 6]],\n",
    "])\n",
    "\n",
    "x_min = np.full(2, np.inf)\n",
    "x_max = - x_min\n",
    "for triangle in mesh:\n",
    "    x_min = np.min([x_min, np.min(triangle, axis=0)], axis=0)\n",
    "    x_max = np.max([x_max, np.max(triangle, axis=0)], axis=0)\n",
    "r_max = np.linalg.norm(x_max - x_min, 2) / 2\n",
    "\n",
    "def plot_mesh():\n",
    "    plt.axis('square')\n",
    "    for triangle in mesh:\n",
    "        plt.gca().add_patch(plt.Polygon(triangle[:3,:], fc='mintcream', ec='k'))\n",
    "    plt.xlim(x_min[0] - 1, x_max[0] + 1)\n",
    "    plt.ylim(x_min[1] - 1, x_max[1] + 1)\n",
    "        \n",
    "plt.figure()\n",
    "plot_mesh()"
   ]
  },
  {
   "cell_type": "code",
   "execution_count": null,
   "id": "9d1746f9",
   "metadata": {},
   "outputs": [],
   "source": [
    "gcs = GraphOfConvexSets()\n",
    "\n",
    "# fixed cost of adding a sphere\n",
    "alpha = 0\n",
    "\n",
    "n_spheres = 5\n",
    "spheres = []\n",
    "for i in range(n_spheres):\n",
    "    s = gcs.add_vertex(f\"s{i}\")\n",
    "    c = s.add_variable(2)\n",
    "    r = s.add_variable(1)\n",
    "    s.add_constraint(c >= x_min)\n",
    "    s.add_constraint(c <= x_max)\n",
    "    s.add_constraint(r >= 0)\n",
    "    s.add_constraint(r <= r_max)\n",
    "    s.add_cost(alpha + r * 0)\n",
    "    s.add_cost(np.pi * r ** 2)\n",
    "    spheres.append(s)\n",
    "    \n",
    "triangles = []\n",
    "for i in range(len(mesh)):\n",
    "    t = gcs.add_vertex(f\"t{i}\")\n",
    "    t.add_constraint(t.add_variable(1)[0] == 0)\n",
    "    triangles.append(t)\n",
    "    \n",
    "for s in spheres:\n",
    "    c = s.variables[0]\n",
    "    r = s.variables[1]\n",
    "    for i, t in enumerate(triangles):\n",
    "        edge = gcs.add_edge(s, t)\n",
    "        for p in mesh[i]:\n",
    "            edge.add_constraint(cp.norm(p - c, 2) <= r)"
   ]
  },
  {
   "cell_type": "code",
   "execution_count": null,
   "id": "f02ab5c7",
   "metadata": {},
   "outputs": [],
   "source": [
    "gcs.graphviz()"
   ]
  },
  {
   "cell_type": "code",
   "execution_count": null,
   "id": "5d8f96ac",
   "metadata": {},
   "outputs": [],
   "source": [
    "from time import time\n",
    "tic = time()\n",
    "prob = gcs.solve_facility_location()\n",
    "print('Problem status:', prob.status)\n",
    "print('Optimal value:', prob.value)\n",
    "print(time() - tic)"
   ]
  },
  {
   "cell_type": "code",
   "execution_count": null,
   "id": "98106930",
   "metadata": {},
   "outputs": [],
   "source": [
    "plt.figure()\n",
    "plt.axis('square')\n",
    "plt.axis('off')\n",
    "\n",
    "plot_mesh()\n",
    "\n",
    "for s in spheres:\n",
    "    c = s.variables[0].value\n",
    "    if c is not None:\n",
    "        r = s.variables[1].value\n",
    "        plt.gca().add_patch(plt.Circle(c, r, fc='None', ec='b'))\n",
    "        \n",
    "plt.xlim(x_min[0] - 1, x_max[0] + 1)\n",
    "plt.ylim(x_min[1] - 1, x_max[1] + 1)\n",
    "\n",
    "plt.savefig('cover.pdf', bbox_inches='tight')"
   ]
  },
  {
   "cell_type": "code",
   "execution_count": null,
   "id": "5f463613",
   "metadata": {},
   "outputs": [],
   "source": []
  }
 ],
 "metadata": {
  "kernelspec": {
   "display_name": "Python 3 (ipykernel)",
   "language": "python",
   "name": "python3"
  },
  "language_info": {
   "codemirror_mode": {
    "name": "ipython",
    "version": 3
   },
   "file_extension": ".py",
   "mimetype": "text/x-python",
   "name": "python",
   "nbconvert_exporter": "python",
   "pygments_lexer": "ipython3",
   "version": "3.11.6"
  }
 },
 "nbformat": 4,
 "nbformat_minor": 5
}
