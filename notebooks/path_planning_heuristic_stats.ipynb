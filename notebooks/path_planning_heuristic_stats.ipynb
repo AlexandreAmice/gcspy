{
 "cells": [
  {
   "cell_type": "code",
   "execution_count": null,
   "id": "73f405fc",
   "metadata": {},
   "outputs": [],
   "source": [
    "%matplotlib notebook\n",
    "%load_ext autoreload\n",
    "%autoreload 2"
   ]
  },
  {
   "cell_type": "code",
   "execution_count": null,
   "id": "91b70de9",
   "metadata": {},
   "outputs": [],
   "source": [
    "import numpy as np\n",
    "import networkx as nx\n",
    "from time import time\n",
    "import matplotlib.pyplot as plt\n",
    "import path_planning_utils as utils"
   ]
  },
  {
   "cell_type": "code",
   "execution_count": null,
   "id": "1ff7ef39",
   "metadata": {},
   "outputs": [],
   "source": [
    "n = 51\n",
    "s = 's'\n",
    "t = 't'\n",
    "sides = [2, .5]"
   ]
  },
  {
   "cell_type": "code",
   "execution_count": null,
   "id": "5736229f",
   "metadata": {},
   "outputs": [],
   "source": [
    "def solve_batch(n, batch_size):\n",
    "    \n",
    "    times = {'dijk': [], 'conv': []}\n",
    "    lengths = {'dijk': [], 'conv': [], 'line': []}\n",
    "    \n",
    "    i = 0\n",
    "    while len(times['dijk']) < batch_size:\n",
    "        \n",
    "        boxes = utils.generate_boxes(n, sides, seed=i)\n",
    "        i += 1\n",
    "        inters = utils.intersect(boxes, sides)\n",
    "        G = utils.line_graph(boxes, inters, s, t)\n",
    "        \n",
    "        try:\n",
    "            tic = time()\n",
    "            path = nx.shortest_path(G, source=s, target=t, weight='weight')\n",
    "        except nx.NetworkXNoPath:\n",
    "            continue\n",
    "        times['dijk'].append(time() - tic)\n",
    "        traj = np.array([inters[v].center for v in path[1:-1]])\n",
    "        length = sum(np.linalg.norm(y - x) for x, y in zip(traj[:-1], traj[1:]))\n",
    "        lengths['dijk'].append(length)\n",
    "        \n",
    "        traj, length, solve_time = utils.optimize_path(path, inters)\n",
    "        times['conv'].append(solve_time)\n",
    "        lengths['conv'].append(length)\n",
    "        \n",
    "        d = boxes[(n - 1, n - 1)].bot - boxes[(0, 0)].top\n",
    "        lengths['line'].append(np.linalg.norm(d))\n",
    "        \n",
    "    return times, lengths"
   ]
  },
  {
   "cell_type": "code",
   "execution_count": null,
   "id": "041a3250",
   "metadata": {},
   "outputs": [],
   "source": [
    "import gc\n",
    "ns = range(11, 102, 10)\n",
    "batch_sizes = 10\n",
    "times = {}\n",
    "lengths = {}\n",
    "for n in ns:\n",
    "    print(n)\n",
    "    gc.disable()\n",
    "    times[n], lengths[n] = solve_batch(n + 1, batch_size)\n",
    "    gc.enable()"
   ]
  },
  {
   "cell_type": "code",
   "execution_count": null,
   "id": "6c2a8e2d",
   "metadata": {},
   "outputs": [],
   "source": [
    "def extract_stats(data, key):\n",
    "    stats = {}\n",
    "    stats['min'] = [min(data[n][key]) for n in ns]\n",
    "    stats['med'] = [np.median(data[n][key]) for n in ns]\n",
    "    stats['max'] = [max(data[n][key]) for n in ns]\n",
    "    return stats\n",
    "\n",
    "dijk_times_stats = extract_stats(times, 'dijk')\n",
    "dijk_length_stats = extract_stats(lengths, 'dijk')\n",
    "\n",
    "conv_times_stats = extract_stats(times, 'conv')\n",
    "conv_length_stats = extract_stats(lengths, 'conv')\n",
    "\n",
    "line_length_stats = extract_stats(lengths, 'line')"
   ]
  },
  {
   "cell_type": "code",
   "execution_count": null,
   "id": "5f45dd21",
   "metadata": {},
   "outputs": [],
   "source": [
    "plt.figure(figsize=(5,6))\n",
    "\n",
    "x = (np.array(ns) - 1) ** 2\n",
    "def plot_stats(stats, color):\n",
    "    plt.plot(x, stats['min'], color=color)\n",
    "    plt.plot(x, stats['med'], color=color, linestyle='--')\n",
    "    plt.plot(x, stats['max'], color=color)\n",
    "\n",
    "plt.subplot(2, 1, 1)\n",
    "plot_stats(dijk_times_stats, 'r')\n",
    "plot_stats(conv_times_stats, 'b')\n",
    "plt.plot(np.nan, np.nan, c='r', label='Dijkstra')\n",
    "plt.plot(np.nan, np.nan, c='b', label='Mosek')\n",
    "plt.ylabel('Time (s)')\n",
    "plt.grid()\n",
    "plt.legend()\n",
    "\n",
    "plt.subplot(2, 1, 2)\n",
    "plot_stats(dijk_length_stats, 'r')\n",
    "plot_stats(conv_length_stats, 'b')\n",
    "plot_stats(line_length_stats, 'g')\n",
    "plt.plot(np.nan, np.nan, c='r', label='Dijkstra')\n",
    "plt.plot(np.nan, np.nan, c='b', label='Mosek')\n",
    "plt.plot(np.nan, np.nan, c='g', label='Straight line')\n",
    "plt.ylabel('Trajectory length')\n",
    "plt.grid()\n",
    "plt.legend()\n",
    "plt.xlabel('Number of boxes')\n",
    "\n",
    "plt.savefig('path_planning_stats.pdf', bbox_inches='tight')"
   ]
  }
 ],
 "metadata": {
  "kernelspec": {
   "display_name": "Python 3",
   "language": "python",
   "name": "python3"
  },
  "language_info": {
   "codemirror_mode": {
    "name": "ipython",
    "version": 3
   },
   "file_extension": ".py",
   "mimetype": "text/x-python",
   "name": "python",
   "nbconvert_exporter": "python",
   "pygments_lexer": "ipython3",
   "version": "3.9.10"
  }
 },
 "nbformat": 4,
 "nbformat_minor": 5
}
