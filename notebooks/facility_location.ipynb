{
 "cells": [
  {
   "cell_type": "code",
   "execution_count": null,
   "id": "dfd76f13",
   "metadata": {},
   "outputs": [],
   "source": [
    "%matplotlib notebook\n",
    "%load_ext autoreload\n",
    "%autoreload 2"
   ]
  },
  {
   "cell_type": "code",
   "execution_count": null,
   "id": "ffbeecf3",
   "metadata": {},
   "outputs": [],
   "source": [
    "import cvxpy as cp\n",
    "import numpy as np\n",
    "from gcspy import GraphOfConvexSets"
   ]
  },
  {
   "cell_type": "code",
   "execution_count": null,
   "id": "9d1746f9",
   "metadata": {},
   "outputs": [],
   "source": [
    "gcs = GraphOfConvexSets()\n",
    "\n",
    "v1 = gcs.add_vertex(\"v1\")\n",
    "x1 = v1.add_variable(2)\n",
    "c1 = np.array([0, .5])\n",
    "v1.add_constraint(cp.norm(x1 - c1, 2) <= .5)\n",
    "\n",
    "v2 = gcs.add_vertex(\"v2\")\n",
    "x2 = v2.add_variable(2)\n",
    "c2 = np.array([0, -1])\n",
    "v2.add_constraint(cp.norm(x2 - c2, 2) <= .5)\n",
    "\n",
    "v3 = gcs.add_vertex(\"v3\")\n",
    "x3 = v3.add_variable(2)\n",
    "c3 = np.array([0, -2.5])\n",
    "v3.add_constraint(cp.norm(x3 - c3, 2) <= .5)\n",
    "\n",
    "v4 = gcs.add_vertex(\"v4\")\n",
    "x4 = v4.add_variable(2)\n",
    "c4 = np.array([3, 2.5])\n",
    "v4.add_constraint(cp.norm(x4 - c4, np.inf) <= .5)\n",
    "\n",
    "v5 = gcs.add_vertex(\"v5\")\n",
    "x5 = v5.add_variable(2)\n",
    "c5 = np.array([3, -1])\n",
    "D5 = np.diag([2, .5])\n",
    "v5.add_constraint(cp.norm(D5 @ (x5 - c5), np.inf) <= 1)\n",
    "\n",
    "facilities = [3, 4]\n",
    "customers = [0, 1, 2]"
   ]
  },
  {
   "cell_type": "code",
   "execution_count": null,
   "id": "7816b994",
   "metadata": {},
   "outputs": [],
   "source": [
    "for facility in facilities:\n",
    "    for customer in customers:\n",
    "        tail = gcs.vertices[facility]\n",
    "        head = gcs.vertices[customer]\n",
    "        edge = gcs.add_edge(tail, head)\n",
    "        edge.add_cost(cp.norm(tail.variables[0] - head.variables[0], 2))"
   ]
  },
  {
   "cell_type": "code",
   "execution_count": null,
   "id": "c9bda818",
   "metadata": {},
   "outputs": [],
   "source": [
    "gcs.graphviz()"
   ]
  },
  {
   "cell_type": "code",
   "execution_count": null,
   "id": "e0e37c42",
   "metadata": {},
   "outputs": [],
   "source": [
    "prob = gcs.solve_facility_location(facilities)\n",
    "print('Problem status:', prob.status)\n",
    "print('Optimal value:', prob.value)\n",
    "print('Vertex binaries:', {vertex.name: np.round(vertex.y.value, 4) for vertex in gcs.vertices})\n",
    "print('Edge binaries:', {edge.name: np.round(edge.y.value, 4) for edge in gcs.edges})"
   ]
  },
  {
   "cell_type": "code",
   "execution_count": null,
   "id": "5d8f96ac",
   "metadata": {},
   "outputs": [],
   "source": [
    "import matplotlib.pyplot as plt\n",
    "plt.figure()\n",
    "plt.gca().set_aspect('equal')\n",
    "plt.axis('off')\n",
    "gcs.plot_2d()\n",
    "gcs.plot_subgraph_2d()\n",
    "# plt.savefig('facility_location.pdf')"
   ]
  },
  {
   "cell_type": "markdown",
   "id": "95b57fac",
   "metadata": {},
   "source": [
    "# From ILP"
   ]
  },
  {
   "cell_type": "code",
   "execution_count": null,
   "id": "06c53806",
   "metadata": {},
   "outputs": [],
   "source": [
    "ilp_constraints = []\n",
    "yv = gcs.vertex_binaries()\n",
    "ye = gcs.edge_binaries()\n",
    "\n",
    "for i, v in enumerate(gcs.vertices):\n",
    "    if i in facilities:\n",
    "        ilp_constraints.append(yv[i] <= 1)\n",
    "    elif i in customers:\n",
    "        ilp_constraints.append(yv[i] == 1)\n",
    "        inc_edges = gcs.incoming_indices(v)\n",
    "        ilp_constraints.append(sum(ye[inc_edges]) == 1)\n",
    "        \n",
    "for k, edge in enumerate(gcs.edges):\n",
    "    i = gcs.vertex_index(edge.tail)\n",
    "    ilp_constraints.append(yv[i] >= ye[k])"
   ]
  },
  {
   "cell_type": "code",
   "execution_count": null,
   "id": "94cd45df",
   "metadata": {},
   "outputs": [],
   "source": [
    "prob = gcs.solve_from_ilp(ilp_constraints)\n",
    "print('Problem status:', prob.status)\n",
    "print('Optimal value:', prob.value)"
   ]
  },
  {
   "cell_type": "code",
   "execution_count": null,
   "id": "1a065816",
   "metadata": {},
   "outputs": [],
   "source": []
  }
 ],
 "metadata": {
  "kernelspec": {
   "display_name": "Python 3 (ipykernel)",
   "language": "python",
   "name": "python3"
  },
  "language_info": {
   "codemirror_mode": {
    "name": "ipython",
    "version": 3
   },
   "file_extension": ".py",
   "mimetype": "text/x-python",
   "name": "python",
   "nbconvert_exporter": "python",
   "pygments_lexer": "ipython3",
   "version": "3.11.2"
  }
 },
 "nbformat": 4,
 "nbformat_minor": 5
}
