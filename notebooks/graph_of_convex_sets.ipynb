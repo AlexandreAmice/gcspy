{
 "cells": [
  {
   "cell_type": "code",
   "execution_count": null,
   "id": "dfd76f13",
   "metadata": {},
   "outputs": [],
   "source": [
    "%matplotlib notebook\n",
    "%load_ext autoreload\n",
    "%autoreload 2"
   ]
  },
  {
   "cell_type": "code",
   "execution_count": null,
   "id": "ffbeecf3",
   "metadata": {},
   "outputs": [],
   "source": [
    "import cvxpy as cp\n",
    "from gcspy import GraphOfConvexSets"
   ]
  },
  {
   "cell_type": "code",
   "execution_count": null,
   "id": "9d1746f9",
   "metadata": {},
   "outputs": [],
   "source": [
    "# initialize graph\n",
    "G = GraphOfConvexSets()\n",
    "\n",
    "# source\n",
    "s = G.add_vertex(\"s\")\n",
    "xs = s.add_variable(2)\n",
    "s.add_constraint(xs == [-2, 0])\n",
    "\n",
    "# target\n",
    "t = G.add_vertex(\"t\")\n",
    "xt = t.add_variable(2)\n",
    "t.add_constraint(xt == [2, 0])\n",
    "\n",
    "# intermediate vertex\n",
    "v = G.add_vertex('v')\n",
    "xv = v.add_variable(2, nonneg=True)\n",
    "v.add_constraint(xv >= [-1, 1])\n",
    "v.add_constraint(xv <= [1, 2])\n",
    "\n",
    "# source to target\n",
    "st = G.add_edge(s, t)\n",
    "st.add_cost(cp.sum_squares(xt - xs))\n",
    "\n",
    "# source to intermediate\n",
    "sv = G.add_edge(s, v)\n",
    "sv.add_cost(cp.sum_squares(xv - xs))\n",
    "\n",
    "# intermediate to target\n",
    "vt = G.add_edge(v, t)\n",
    "vt.add_cost(cp.sum_squares(xt - xv))"
   ]
  },
  {
   "cell_type": "code",
   "execution_count": null,
   "id": "8f460c82",
   "metadata": {},
   "outputs": [],
   "source": [
    "G.graphviz()"
   ]
  }
 ],
 "metadata": {
  "kernelspec": {
   "display_name": "Python 3 (ipykernel)",
   "language": "python",
   "name": "python3"
  },
  "language_info": {
   "codemirror_mode": {
    "name": "ipython",
    "version": 3
   },
   "file_extension": ".py",
   "mimetype": "text/x-python",
   "name": "python",
   "nbconvert_exporter": "python",
   "pygments_lexer": "ipython3",
   "version": "3.11.2"
  }
 },
 "nbformat": 4,
 "nbformat_minor": 5
}
