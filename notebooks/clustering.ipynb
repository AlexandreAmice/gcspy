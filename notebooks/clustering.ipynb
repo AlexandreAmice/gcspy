{
 "cells": [
  {
   "cell_type": "code",
   "execution_count": null,
   "id": "dfd76f13",
   "metadata": {},
   "outputs": [],
   "source": [
    "%matplotlib notebook\n",
    "%load_ext autoreload\n",
    "%autoreload 2"
   ]
  },
  {
   "cell_type": "code",
   "execution_count": null,
   "id": "ffbeecf3",
   "metadata": {},
   "outputs": [],
   "source": [
    "import cvxpy as cp\n",
    "import numpy as np\n",
    "from gcspy import GraphOfConvexSets"
   ]
  },
  {
   "cell_type": "code",
   "execution_count": null,
   "id": "a60afcc6",
   "metadata": {},
   "outputs": [],
   "source": [
    "n_movies = 20\n",
    "n_categories = 2\n",
    "n_clusters = 3\n",
    "\n",
    "np.random.seed(0)\n",
    "scores = np.random.rand(n_movies, n_categories)"
   ]
  },
  {
   "cell_type": "code",
   "execution_count": null,
   "id": "9d1746f9",
   "metadata": {},
   "outputs": [],
   "source": [
    "gcs = GraphOfConvexSets()\n",
    "\n",
    "clusters = []\n",
    "for i in range(n_clusters):\n",
    "    v = gcs.add_vertex(f\"cluster{i}\")\n",
    "    x = v.add_variable(n_categories)\n",
    "    v.add_constraint(x >= 0)\n",
    "    v.add_constraint(x <= 1)\n",
    "    clusters.append(v)\n",
    "\n",
    "movies = []\n",
    "for i, score in enumerate(scores):\n",
    "    v = gcs.add_vertex(f\"movie{i}\")\n",
    "    x = v.add_variable(n_categories)\n",
    "    v.add_constraint(x == score)\n",
    "    movies.append(v)\n",
    "    \n",
    "for cluster in clusters:\n",
    "    for movie in movies:\n",
    "        edge = gcs.add_edge(cluster, movie)\n",
    "        edge.add_cost(cp.sum_squares(cluster.variables[0] - movie.variables[0]))"
   ]
  },
  {
   "cell_type": "code",
   "execution_count": null,
   "id": "e0e37c42",
   "metadata": {},
   "outputs": [],
   "source": [
    "prob = gcs.solve_facility_location()\n",
    "print('Problem status:', prob.status)\n",
    "print('Optimal value:', prob.value)"
   ]
  },
  {
   "cell_type": "code",
   "execution_count": null,
   "id": "5d8f96ac",
   "metadata": {},
   "outputs": [],
   "source": [
    "import matplotlib.pyplot as plt\n",
    "plt.figure()\n",
    "plt.gca().set_aspect('equal')\n",
    "# plt.axis('off')\n",
    "\n",
    "colors = ['r', 'g', 'b']\n",
    "for i, cluster in enumerate(clusters):\n",
    "    color = colors[i]\n",
    "    x = cluster.variables[0].value\n",
    "    plt.scatter(*x, color=color, marker='x')\n",
    "    for j, movie in enumerate(movies):\n",
    "        edge = gcs.get_edge(cluster, movie)\n",
    "        if edge.y.value is not None and edge.y.value > .99:\n",
    "            x = movie.variables[0].value\n",
    "            plt.scatter(*x, color=color, marker='o')\n",
    "\n",
    "# plt.savefig('clustering.pdf')"
   ]
  },
  {
   "cell_type": "code",
   "execution_count": null,
   "id": "543f075a",
   "metadata": {},
   "outputs": [],
   "source": []
  }
 ],
 "metadata": {
  "kernelspec": {
   "display_name": "Python 3 (ipykernel)",
   "language": "python",
   "name": "python3"
  },
  "language_info": {
   "codemirror_mode": {
    "name": "ipython",
    "version": 3
   },
   "file_extension": ".py",
   "mimetype": "text/x-python",
   "name": "python",
   "nbconvert_exporter": "python",
   "pygments_lexer": "ipython3",
   "version": "3.11.2"
  }
 },
 "nbformat": 4,
 "nbformat_minor": 5
}
