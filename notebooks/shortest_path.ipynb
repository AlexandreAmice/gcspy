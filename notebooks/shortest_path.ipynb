{
 "cells": [
  {
   "cell_type": "code",
   "execution_count": null,
   "id": "dfd76f13",
   "metadata": {},
   "outputs": [],
   "source": [
    "%matplotlib notebook\n",
    "%load_ext autoreload\n",
    "%autoreload 2"
   ]
  },
  {
   "cell_type": "code",
   "execution_count": null,
   "id": "ffbeecf3",
   "metadata": {},
   "outputs": [],
   "source": [
    "import cvxpy as cp\n",
    "from gcspy import GraphOfConvexSets"
   ]
  },
  {
   "cell_type": "code",
   "execution_count": null,
   "id": "9d1746f9",
   "metadata": {},
   "outputs": [],
   "source": [
    "# initialize graph\n",
    "gcs = GraphOfConvexSets()\n",
    "\n",
    "# source\n",
    "s = gcs.add_vertex(\"s\")\n",
    "xs = s.add_variable(2)\n",
    "s.add_constraint(xs == [-2, 0])\n",
    "\n",
    "# target\n",
    "t = gcs.add_vertex(\"t\")\n",
    "xt = t.add_variable(2)\n",
    "t.add_constraint(xt == [2, 0])\n",
    "\n",
    "# intermediate vertex\n",
    "v = gcs.add_vertex(\"v\")\n",
    "xv = v.add_variable(2)\n",
    "v.add_constraint(xv >= [-1, 1])\n",
    "v.add_constraint(xv <= [1, 2])\n",
    "\n",
    "# source to target\n",
    "st = gcs.add_edge(s, t)\n",
    "st.add_cost(cp.sum_squares(xt - xs))\n",
    "\n",
    "# source to intermediate\n",
    "sv = gcs.add_edge(s, v)\n",
    "sv.add_cost(cp.sum_squares(xv - xs))\n",
    "\n",
    "# intermediate to target\n",
    "vt = gcs.add_edge(v, t)\n",
    "vt.add_cost(cp.sum_squares(xt - xv))"
   ]
  },
  {
   "cell_type": "code",
   "execution_count": null,
   "id": "32d48e4e",
   "metadata": {},
   "outputs": [],
   "source": [
    "from gcspy import graphviz_gcs\n",
    "graphviz_gcs(gcs)"
   ]
  },
  {
   "cell_type": "code",
   "execution_count": null,
   "id": "46d02adf",
   "metadata": {},
   "outputs": [],
   "source": [
    "prob = gcs.shortest_path(s, t)\n",
    "print('Problem status:', prob.status)\n",
    "print('Optimal value:', prob.value)\n",
    "print('Vertex binaries:', {vertex.name: vertex.value for vertex in gcs.vertices})\n",
    "print('Edge binaries:', {edge.name: edge.value for edge in gcs.edges})"
   ]
  },
  {
   "cell_type": "code",
   "execution_count": null,
   "id": "fdc452ff",
   "metadata": {},
   "outputs": [],
   "source": [
    "import matplotlib.pyplot as plt\n",
    "from gcspy import plot_gcs_2d\n",
    "plt.figure()\n",
    "plot_gcs_2d(gcs)"
   ]
  },
  {
   "cell_type": "code",
   "execution_count": null,
   "id": "6fb03ace",
   "metadata": {},
   "outputs": [],
   "source": []
  }
 ],
 "metadata": {
  "kernelspec": {
   "display_name": "Python 3 (ipykernel)",
   "language": "python",
   "name": "python3"
  },
  "language_info": {
   "codemirror_mode": {
    "name": "ipython",
    "version": 3
   },
   "file_extension": ".py",
   "mimetype": "text/x-python",
   "name": "python",
   "nbconvert_exporter": "python",
   "pygments_lexer": "ipython3",
   "version": "3.11.2"
  }
 },
 "nbformat": 4,
 "nbformat_minor": 5
}
