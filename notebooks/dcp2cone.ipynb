{
 "cells": [
  {
   "cell_type": "code",
   "execution_count": null,
   "id": "dfd76f13",
   "metadata": {},
   "outputs": [],
   "source": [
    "%matplotlib notebook\n",
    "%load_ext autoreload\n",
    "%autoreload 2"
   ]
  },
  {
   "cell_type": "code",
   "execution_count": null,
   "id": "208622e9",
   "metadata": {},
   "outputs": [],
   "source": [
    "import numpy as np\n",
    "import cvxpy as cp\n",
    "from gcspy.programs import ConicProgram"
   ]
  },
  {
   "cell_type": "code",
   "execution_count": null,
   "id": "5c336db3",
   "metadata": {},
   "outputs": [],
   "source": [
    "x = cp.Variable(3, nonneg=True)\n",
    "y = cp.Variable(2, nonneg=True)\n",
    "X = cp.Variable((3, 3), PSD=True)\n",
    "Y = cp.Variable((3, 4))\n",
    "variables = [x, y, X, Y]\n",
    "cost = cp.norm(x + 2, 2) + cp.sum_squares(y + 3) + 3\n",
    "cost += sum(cp.diag(X)) + X[0, 2] + cp.sum(Y[0])\n",
    "constraints = [x >= -3, y <= 3, X[0, 1] == 1, Y == np.ones(Y.shape)]\n",
    "prob = cp.Problem(cp.Minimize(cost), constraints)"
   ]
  },
  {
   "cell_type": "code",
   "execution_count": null,
   "id": "f2916b95",
   "metadata": {},
   "outputs": [],
   "source": [
    "prob.solve()\n",
    "print('cost =', np.round(prob.value, 3))\n",
    "print('x =', np.round(x.value, 3))\n",
    "print('y =', np.round(y.value, 3))\n",
    "print('X =', np.round(X.value, 3))\n",
    "print('Y =', np.round(Y.value, 3))"
   ]
  },
  {
   "cell_type": "code",
   "execution_count": null,
   "id": "e20c2db6",
   "metadata": {},
   "outputs": [],
   "source": [
    "prob.solve()\n",
    "print('cost =', np.round(prob.value, 3))\n",
    "print('x =', np.round(x.value, 3))\n",
    "print('y =', np.round(y.value, 3))\n",
    "print('X =', np.round(X.value, 3))\n",
    "print('Y =', np.round(Y.value, 3))"
   ]
  },
  {
   "cell_type": "code",
   "execution_count": null,
   "id": "1c0ea4e4",
   "metadata": {},
   "outputs": [],
   "source": [
    "conic_prob = ConicProgram(constraints, cost)\n",
    "new_variables = cp.Variable(conic_prob.num_variables)\n",
    "new_cost = conic_prob.eval_cost(new_variables)\n",
    "new_constraints = conic_prob.eval_constraints(new_variables)\n",
    "new_prob = cp.Problem(cp.Minimize(new_cost), new_constraints)"
   ]
  },
  {
   "cell_type": "code",
   "execution_count": null,
   "id": "f584c92e",
   "metadata": {},
   "outputs": [],
   "source": [
    "new_prob.solve()\n",
    "new_x = conic_prob.select_variable(x, new_variables.value)\n",
    "new_y = conic_prob.select_variable(y, new_variables.value)\n",
    "new_X = conic_prob.select_variable(X, new_variables.value)\n",
    "new_Y = conic_prob.select_variable(Y, new_variables.value)\n",
    "print('cost =', np.round(new_prob.value, 3))\n",
    "print('x =', np.round(new_x, 3))\n",
    "print('y =', np.round(new_y, 3))\n",
    "print('X =', np.round(new_X, 3))\n",
    "print('Y =', np.round(new_Y, 3))"
   ]
  },
  {
   "cell_type": "code",
   "execution_count": null,
   "id": "557a73c2",
   "metadata": {},
   "outputs": [],
   "source": []
  }
 ],
 "metadata": {
  "kernelspec": {
   "display_name": "Python 3 (ipykernel)",
   "language": "python",
   "name": "python3"
  },
  "language_info": {
   "codemirror_mode": {
    "name": "ipython",
    "version": 3
   },
   "file_extension": ".py",
   "mimetype": "text/x-python",
   "name": "python",
   "nbconvert_exporter": "python",
   "pygments_lexer": "ipython3",
   "version": "3.11.2"
  }
 },
 "nbformat": 4,
 "nbformat_minor": 5
}
