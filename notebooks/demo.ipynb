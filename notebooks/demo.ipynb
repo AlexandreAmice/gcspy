{
 "cells": [
  {
   "cell_type": "code",
   "execution_count": null,
   "id": "dfd76f13",
   "metadata": {},
   "outputs": [],
   "source": [
    "%matplotlib notebook\n",
    "%load_ext autoreload\n",
    "%autoreload 2"
   ]
  },
  {
   "cell_type": "code",
   "execution_count": null,
   "id": "ffbeecf3",
   "metadata": {},
   "outputs": [],
   "source": [
    "import cvxpy as cp\n",
    "import numpy as np\n",
    "from gcspy import GraphOfConvexSets"
   ]
  },
  {
   "cell_type": "code",
   "execution_count": null,
   "id": "9d1746f9",
   "metadata": {},
   "outputs": [],
   "source": [
    "gcs = GraphOfConvexSets()\n",
    "\n",
    "n = 3\n",
    "squares = [0, 2, 4, 6, 8]\n",
    "for i in range(n):\n",
    "    for j in range(n):\n",
    "        norm = np.inf if gcs.num_vertices() in squares else 2\n",
    "        v = gcs.add_vertex(str((i,j)))\n",
    "        x = v.add_variable(2)\n",
    "        c = np.array([i, j])\n",
    "        v.add_constraint(cp.norm(x - c, norm) <= .25)"
   ]
  },
  {
   "cell_type": "markdown",
   "id": "e119ba55",
   "metadata": {},
   "source": [
    "# Shortest path"
   ]
  },
  {
   "cell_type": "code",
   "execution_count": null,
   "id": "cc5c7b46",
   "metadata": {},
   "outputs": [],
   "source": [
    "gcs.edges = []\n",
    "edges = [\n",
    "    ((0, 0), (1, 0)),\n",
    "    ((1, 0), (2, 0)),\n",
    "    ((2, 0), (2, 1)),\n",
    "    ((0, 1), (0, 0)),\n",
    "    ((0, 1), (0, 2)),\n",
    "    ((1, 1), (1, 0)),\n",
    "    ((1, 1), (0, 1)),\n",
    "    ((1, 1), (1, 2)),\n",
    "    ((2, 1), (1, 1)),\n",
    "    ((2, 1), (2, 2)),\n",
    "    ((1, 2), (0, 2)),\n",
    "    ((1, 2), (2, 2)),\n",
    "        ]\n",
    "for tail_name, head_name in edges:\n",
    "    tail = gcs.get_vertex_by_name(str(tail_name))\n",
    "    head = gcs.get_vertex_by_name(str(head_name))\n",
    "    edge = gcs.add_edge(tail, head)\n",
    "    edge.add_cost(cp.norm(head.variables[0] - tail.variables[0], 2))"
   ]
  },
  {
   "cell_type": "code",
   "execution_count": null,
   "id": "5512ea29",
   "metadata": {},
   "outputs": [],
   "source": [
    "source = gcs.vertices[0]\n",
    "target = gcs.vertices[2]\n",
    "prob = gcs.solve_shortest_path(source, target)"
   ]
  },
  {
   "cell_type": "code",
   "execution_count": null,
   "id": "0b6bf40a",
   "metadata": {},
   "outputs": [],
   "source": [
    "import matplotlib.pyplot as plt\n",
    "plt.figure()\n",
    "plt.gca().set_aspect('equal')\n",
    "plt.axis('off')\n",
    "gcs.plot_2d()\n",
    "gcs.plot_subgraph_2d()\n",
    "plt.savefig('shortest_path.pdf')"
   ]
  },
  {
   "cell_type": "markdown",
   "id": "dbdb32dc",
   "metadata": {},
   "source": [
    "# Traveling salesman"
   ]
  },
  {
   "cell_type": "code",
   "execution_count": null,
   "id": "0fa09136",
   "metadata": {},
   "outputs": [],
   "source": [
    "gcs.edges = []\n",
    "for i in range(n):\n",
    "    for j in range(n):\n",
    "        for k in range(n):\n",
    "            for l in range(n):\n",
    "                dx = abs(i - k)\n",
    "                dy = abs(j - l)\n",
    "                if dx <= 1 and dy <= 1 and dx + dy != 0:\n",
    "                    tail = gcs.get_vertex_by_name(str((i, j)))\n",
    "                    head = gcs.get_vertex_by_name(str((k, l)))\n",
    "                    edge = gcs.add_edge(tail, head)\n",
    "                    edge.add_cost(cp.norm(head.variables[0] - tail.variables[0], 2))"
   ]
  },
  {
   "cell_type": "code",
   "execution_count": null,
   "id": "46d02adf",
   "metadata": {},
   "outputs": [],
   "source": [
    "prob = gcs.solve_traveling_salesman()"
   ]
  },
  {
   "cell_type": "code",
   "execution_count": null,
   "id": "fdc452ff",
   "metadata": {
    "scrolled": false
   },
   "outputs": [],
   "source": [
    "import matplotlib.pyplot as plt\n",
    "plt.figure()\n",
    "plt.gca().set_aspect('equal')\n",
    "plt.axis('off')\n",
    "gcs.plot_2d()\n",
    "gcs.plot_subgraph_2d()\n",
    "plt.savefig('traveling_salesman.pdf')"
   ]
  },
  {
   "cell_type": "markdown",
   "id": "d8846bb7",
   "metadata": {},
   "source": [
    "# Facility location"
   ]
  },
  {
   "cell_type": "code",
   "execution_count": null,
   "id": "ea1963c2",
   "metadata": {},
   "outputs": [],
   "source": [
    "gcs.edges = []\n",
    "customers = squares\n",
    "facilities = [i for i in range(gcs.num_vertices()) if i not in squares]\n",
    "for facility in facilities:\n",
    "    for customer in customers:\n",
    "        tail = gcs.vertices[facility]\n",
    "        head = gcs.vertices[customer]\n",
    "        edge = gcs.add_edge(tail, head)\n",
    "        edge.add_cost(cp.norm(tail.variables[0] - head.variables[0], 2))"
   ]
  },
  {
   "cell_type": "code",
   "execution_count": null,
   "id": "d1b569c5",
   "metadata": {},
   "outputs": [],
   "source": [
    "prob = gcs.solve_facility_location(facilities)"
   ]
  },
  {
   "cell_type": "code",
   "execution_count": null,
   "id": "7ec608fd",
   "metadata": {},
   "outputs": [],
   "source": [
    "import matplotlib.pyplot as plt\n",
    "plt.figure()\n",
    "plt.gca().set_aspect('equal')\n",
    "plt.axis('off')\n",
    "gcs.plot_2d()\n",
    "gcs.plot_subgraph_2d()\n",
    "plt.savefig('facility_location.pdf')"
   ]
  },
  {
   "cell_type": "code",
   "execution_count": null,
   "id": "6b43f0ef",
   "metadata": {},
   "outputs": [],
   "source": []
  }
 ],
 "metadata": {
  "kernelspec": {
   "display_name": "Python 3 (ipykernel)",
   "language": "python",
   "name": "python3"
  },
  "language_info": {
   "codemirror_mode": {
    "name": "ipython",
    "version": 3
   },
   "file_extension": ".py",
   "mimetype": "text/x-python",
   "name": "python",
   "nbconvert_exporter": "python",
   "pygments_lexer": "ipython3",
   "version": "3.11.2"
  }
 },
 "nbformat": 4,
 "nbformat_minor": 5
}
