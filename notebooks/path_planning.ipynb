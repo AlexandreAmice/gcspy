{
 "cells": [
  {
   "cell_type": "code",
   "execution_count": null,
   "id": "73f405fc",
   "metadata": {},
   "outputs": [],
   "source": [
    "%matplotlib notebook\n",
    "%load_ext autoreload\n",
    "%autoreload 2"
   ]
  },
  {
   "cell_type": "code",
   "execution_count": null,
   "id": "91b70de9",
   "metadata": {},
   "outputs": [],
   "source": [
    "import numpy as np\n",
    "import cvxpy as cp\n",
    "import matplotlib.pyplot as plt\n",
    "from matplotlib.patches import Rectangle\n",
    "\n",
    "from gcspy.graph_of_convex_sets import GraphOfConvexSets\n",
    "from gcspy.shortest_path_problem import ShortestPathProblem"
   ]
  },
  {
   "cell_type": "code",
   "execution_count": null,
   "id": "1ff7ef39",
   "metadata": {},
   "outputs": [],
   "source": [
    "np.random.seed(1)\n",
    "grid_size = 10\n",
    "box_side = .1\n",
    "boxes = []\n",
    "for i in np.linspace(0, 1, 10):\n",
    "    for j in np.linspace(0, 1, 10):\n",
    "        center = np.array([i, j])\n",
    "        sides = np.random.rand(2) * box_side\n",
    "        boxes.append((center - sides, center + sides))"
   ]
  },
  {
   "cell_type": "code",
   "execution_count": null,
   "id": "ecb629ac",
   "metadata": {},
   "outputs": [],
   "source": [
    "def plot_boxes(boxes):\n",
    "    for box in boxes:\n",
    "        plt.gca().add_patch(Rectangle(box[0], *(box[1] - box[0]), fc='lightcyan', ec='k'))\n",
    "\n",
    "plt.figure()\n",
    "plot_boxes(boxes)\n",
    "plt.xlim([-.2, 1.2])\n",
    "plt.ylim([-.2, 1.2])"
   ]
  },
  {
   "cell_type": "code",
   "execution_count": null,
   "id": "29437fe9",
   "metadata": {},
   "outputs": [],
   "source": [
    "def intersect(box1, box2):\n",
    "    bl = np.maximum(box1[0], box2[0])\n",
    "    tr = np.minimum(box1[1], box2[1])\n",
    "    return all(bl <= tr)\n",
    "\n",
    "gcs = GraphOfConvexSets()\n",
    "for i, box in enumerate(boxes):\n",
    "    v = gcs.add_vertex(i)\n",
    "    x1 = v.add_variable(2)\n",
    "    v.add_constraint(x1 >= box[0])\n",
    "    v.add_constraint(x1 <= box[1])\n",
    "    x2 = v.add_variable(2)\n",
    "    v.add_constraint(x2 >= box[0])\n",
    "    v.add_constraint(x2 <= box[1])\n",
    "    \n",
    "for i, box1 in enumerate(boxes):\n",
    "    for j, box2 in enumerate(boxes):\n",
    "        if i != j:\n",
    "            if intersect(box1, box2):\n",
    "                u = gcs.get_vertex(i)\n",
    "                v = gcs.get_vertex(j)\n",
    "                e = gcs.add_edge(u, v)\n",
    "                e.add_length(cp.norm(u.variables[1] - u.variables[0], 2))\n",
    "                if j == len(boxes) - 1:\n",
    "                     e.add_length(cp.norm(v.variables[1] - v.variables[0], 2))\n",
    "                e.add_constraint(u.variables[1] == v.variables[0])"
   ]
  },
  {
   "cell_type": "code",
   "execution_count": null,
   "id": "88d60268",
   "metadata": {},
   "outputs": [],
   "source": [
    "spp = ShortestPathProblem(gcs)\n",
    "sol = spp.solve(gcs.get_vertex(0), gcs.get_vertex(99), relaxation=0)"
   ]
  },
  {
   "cell_type": "code",
   "execution_count": null,
   "id": "ab2971c4",
   "metadata": {},
   "outputs": [],
   "source": [
    "traj = []\n",
    "for e in gcs.edges:\n",
    "    if np.isclose(sol.y[e], 1):\n",
    "        traj.extend(sol.x[e.u])\n",
    "        traj.extend(sol.x[e.v])\n",
    "traj = np.array(traj)\n",
    "\n",
    "plt.figure()\n",
    "plot_boxes(boxes)\n",
    "plt.plot(*traj.T, c='b')\n",
    "plt.xlim([-.2, 1.2])\n",
    "plt.ylim([-.2, 1.2])"
   ]
  }
 ],
 "metadata": {
  "kernelspec": {
   "display_name": "Python 3",
   "language": "python",
   "name": "python3"
  },
  "language_info": {
   "codemirror_mode": {
    "name": "ipython",
    "version": 3
   },
   "file_extension": ".py",
   "mimetype": "text/x-python",
   "name": "python",
   "nbconvert_exporter": "python",
   "pygments_lexer": "ipython3",
   "version": "3.9.10"
  }
 },
 "nbformat": 4,
 "nbformat_minor": 5
}
