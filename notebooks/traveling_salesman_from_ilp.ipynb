{
 "cells": [
  {
   "cell_type": "code",
   "execution_count": null,
   "id": "dfd76f13",
   "metadata": {},
   "outputs": [],
   "source": [
    "%matplotlib notebook\n",
    "%load_ext autoreload\n",
    "%autoreload 2"
   ]
  },
  {
   "cell_type": "code",
   "execution_count": null,
   "id": "ffbeecf3",
   "metadata": {},
   "outputs": [],
   "source": [
    "import cvxpy as cp\n",
    "import numpy as np\n",
    "from gcspy import GraphOfConvexSets"
   ]
  },
  {
   "cell_type": "code",
   "execution_count": null,
   "id": "9d1746f9",
   "metadata": {},
   "outputs": [],
   "source": [
    "gcs = GraphOfConvexSets()\n",
    "\n",
    "v1 = gcs.add_vertex(\"v1\")\n",
    "x1 = v1.add_variable(2)\n",
    "c1 = np.array([-3, 0])\n",
    "v1.add_constraint(cp.norm(x1 - c1, np.inf) <= 1)\n",
    "v1.add_cost(cp.sum_squares(x1 - c1))\n",
    "\n",
    "v2 = gcs.add_vertex(\"v2\")\n",
    "x2 = v2.add_variable(2)\n",
    "c2 = np.array([0, 2.5])\n",
    "D2 = np.diag([.25, 2])\n",
    "v2.add_constraint(cp.norm(D2 @ (x2 - c2), np.inf) <= 1)\n",
    "v2.add_cost(cp.sum_squares(x2 - c2))\n",
    "\n",
    "v3 = gcs.add_vertex(\"v3\")\n",
    "x3 = v3.add_variable(2)\n",
    "c3 = np.array([3, 0])\n",
    "v3.add_constraint(cp.norm(x3 - c3, 2) <= 1)\n",
    "v3.add_cost(cp.sum_squares(x3 - c3))\n",
    "\n",
    "v4 = gcs.add_vertex(\"v4\")\n",
    "x4 = v4.add_variable(2)\n",
    "c4 = np.array([0, -2.5])\n",
    "D4 = np.diag([1, 2])\n",
    "v4.add_constraint(cp.norm(D4 @ (x4 - c4), 2) <= 1)\n",
    "v4.add_cost(cp.sum_squares(x4 - c4))\n",
    "\n",
    "v5 = gcs.add_vertex(\"v5\")\n",
    "x5 = v5.add_variable(2)\n",
    "c5 = np.array([.3, .3])\n",
    "v5.add_constraint(cp.norm(x5 - c5, 1) <= 1)\n",
    "v5.add_cost(cp.sum_squares(x5 - c5))"
   ]
  },
  {
   "cell_type": "code",
   "execution_count": null,
   "id": "7816b994",
   "metadata": {},
   "outputs": [],
   "source": [
    "for tail in gcs.vertices:\n",
    "    for head in gcs.vertices:\n",
    "        if tail != head:\n",
    "            edge = gcs.add_edge(tail, head)\n",
    "            edge.add_cost(cp.norm(tail.variables[0] - head.variables[0], 2))"
   ]
  },
  {
   "cell_type": "code",
   "execution_count": null,
   "id": "c9bda818",
   "metadata": {},
   "outputs": [],
   "source": [
    "gcs.graphviz()"
   ]
  },
  {
   "cell_type": "code",
   "execution_count": null,
   "id": "0ed08e8c",
   "metadata": {},
   "outputs": [],
   "source": [
    "ilp_constraints = []\n",
    "yv = gcs.vertex_binaries()\n",
    "ye = gcs.edge_binaries()\n",
    "\n",
    "for i, v in enumerate(gcs.vertices):\n",
    "    inc_edges = gcs.incoming_indices(v)\n",
    "    out_edges = gcs.outgoing_indices(v)\n",
    "\n",
    "    ilp_constraints.append(yv[i] == 1)\n",
    "    ilp_constraints.append(sum(ye[out_edges]) == 1)\n",
    "    ilp_constraints.append(sum(ye[inc_edges]) == 1)\n",
    "\n",
    "for r in range(2, gcs.num_vertices() - 1):\n",
    "    for vertices in combinations(gcs.vertices, r):\n",
    "        out_edges = gcs.outgoing_indices(vertices)\n",
    "        ilp_constraints.append(sum(ye[out_edges]) >= 1)"
   ]
  },
  {
   "cell_type": "code",
   "execution_count": null,
   "id": "e0e37c42",
   "metadata": {},
   "outputs": [],
   "source": [
    "prob = gcs.solve_from_ilp(ilp_constraints)\n",
    "print('Problem status:', prob.status)\n",
    "print('Optimal value:', prob.value)\n",
    "print('Vertex binaries:', {vertex.name: np.round(vertex.y.value, 4) for vertex in gcs.vertices})\n",
    "print('Edge binaries:', {edge.name: np.round(edge.y.value, 4) for edge in gcs.edges})"
   ]
  },
  {
   "cell_type": "code",
   "execution_count": null,
   "id": "5d8f96ac",
   "metadata": {},
   "outputs": [],
   "source": [
    "import matplotlib.pyplot as plt\n",
    "plt.figure()\n",
    "plt.gca().set_aspect('equal')\n",
    "plt.axis('off')\n",
    "gcs.plot_2d()\n",
    "gcs.plot_subgraph_2d()\n",
    "# plt.savefig('traveling_salesman.pdf')"
   ]
  },
  {
   "cell_type": "code",
   "execution_count": null,
   "id": "fbb4e28c",
   "metadata": {},
   "outputs": [],
   "source": []
  }
 ],
 "metadata": {
  "kernelspec": {
   "display_name": "Python 3 (ipykernel)",
   "language": "python",
   "name": "python3"
  },
  "language_info": {
   "codemirror_mode": {
    "name": "ipython",
    "version": 3
   },
   "file_extension": ".py",
   "mimetype": "text/x-python",
   "name": "python",
   "nbconvert_exporter": "python",
   "pygments_lexer": "ipython3",
   "version": "3.11.2"
  }
 },
 "nbformat": 4,
 "nbformat_minor": 5
}
