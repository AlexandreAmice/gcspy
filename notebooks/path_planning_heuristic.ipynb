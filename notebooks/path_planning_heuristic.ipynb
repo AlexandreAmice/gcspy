{
 "cells": [
  {
   "cell_type": "code",
   "execution_count": null,
   "id": "73f405fc",
   "metadata": {},
   "outputs": [],
   "source": [
    "%matplotlib notebook\n",
    "%load_ext autoreload\n",
    "%autoreload 2"
   ]
  },
  {
   "cell_type": "code",
   "execution_count": null,
   "id": "91b70de9",
   "metadata": {},
   "outputs": [],
   "source": [
    "import numpy as np\n",
    "import networkx as nx\n",
    "import matplotlib.pyplot as plt\n",
    "import path_planning_utils as utils"
   ]
  },
  {
   "cell_type": "code",
   "execution_count": null,
   "id": "1ff7ef39",
   "metadata": {},
   "outputs": [],
   "source": [
    "n = 51\n",
    "sides = [2, .5]\n",
    "s = 's'\n",
    "t = 't'"
   ]
  },
  {
   "cell_type": "code",
   "execution_count": null,
   "id": "4b7dcff2",
   "metadata": {},
   "outputs": [],
   "source": [
    "boxes = utils.generate_boxes(n, sides, seed=0)\n",
    "inters = utils.intersect(boxes, sides)\n",
    "G = utils.line_graph(boxes, inters, s, t)"
   ]
  },
  {
   "cell_type": "code",
   "execution_count": null,
   "id": "5f45dd21",
   "metadata": {},
   "outputs": [],
   "source": [
    "path = nx.shortest_path(G, source=s, target=t, weight='weight')\n",
    "traj = np.array([inters[v].center for v in path[1:-1]])\n",
    "traj_opt = utils.optimize_path(path, inters)"
   ]
  },
  {
   "cell_type": "code",
   "execution_count": null,
   "id": "3d5cfb21",
   "metadata": {},
   "outputs": [],
   "source": [
    "plt.figure(figsize=(9, 9))\n",
    "utils.plot(boxes, alpha=.5)\n",
    "plt.plot(*traj.T, c='r')\n",
    "plt.plot(*traj_opt.T, c='b')\n",
    "# plt.savefig('path_planning.pdf', bbox_inches='tight')"
   ]
  }
 ],
 "metadata": {
  "kernelspec": {
   "display_name": "Python 3",
   "language": "python",
   "name": "python3"
  },
  "language_info": {
   "codemirror_mode": {
    "name": "ipython",
    "version": 3
   },
   "file_extension": ".py",
   "mimetype": "text/x-python",
   "name": "python",
   "nbconvert_exporter": "python",
   "pygments_lexer": "ipython3",
   "version": "3.9.10"
  }
 },
 "nbformat": 4,
 "nbformat_minor": 5
}
