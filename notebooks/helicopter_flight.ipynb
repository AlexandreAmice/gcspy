{
 "cells": [
  {
   "cell_type": "code",
   "execution_count": null,
   "id": "ffbeecf3",
   "metadata": {},
   "outputs": [],
   "source": [
    "import cvxpy as cp\n",
    "import numpy as np\n",
    "import matplotlib.pyplot as plt\n",
    "from gcspy import GraphOfConvexSets"
   ]
  },
  {
   "cell_type": "code",
   "execution_count": null,
   "id": "77b7b11a",
   "metadata": {},
   "outputs": [],
   "source": [
    "n = 20\n",
    "radius = .1\n",
    "q_init = np.zeros(2)\n",
    "q_term = np.ones(2)\n",
    "z_max = 1\n",
    "vel = 1\n",
    "alpha = 5\n",
    "beta = 1\n",
    "autonomy = z_max / alpha * vel"
   ]
  },
  {
   "cell_type": "code",
   "execution_count": null,
   "id": "e081f562",
   "metadata": {},
   "outputs": [],
   "source": [
    "C = []\n",
    "r = []\n",
    "np.random.seed(1)\n",
    "while len(C) < n:\n",
    "    ci = np.random.rand(2)\n",
    "    ri = np.random.rand() * radius\n",
    "    keep = True\n",
    "    for cj, rj in zip(C, r):\n",
    "        dij = np.linalg.norm(ci - cj)\n",
    "        if dij < ri + rj:\n",
    "            keep = False\n",
    "            break\n",
    "    if keep:\n",
    "        C.append(ci)\n",
    "        r.append(ri)\n",
    "C = np.array(C)\n",
    "r = np.array(r)"
   ]
  },
  {
   "cell_type": "code",
   "execution_count": null,
   "id": "bbf87b65",
   "metadata": {},
   "outputs": [],
   "source": [
    "def plot_islands():\n",
    "    plt.gca().add_patch(plt.Rectangle((-radius, -radius), 1 + 2 * radius, 1 + 2 * radius, fc='azure'))\n",
    "    for i in range(n):\n",
    "        plt.gca().add_patch(plt.Circle(C[i], r[i],\n",
    "                                       ec='k', fc='lightgreen'))\n",
    "    plt.gca().set_aspect('equal')\n",
    "    plt.xticks([])\n",
    "    plt.yticks([])\n",
    "    plt.xlim([-radius, 1 + radius])\n",
    "    plt.ylim([-radius, 1 + radius])"
   ]
  },
  {
   "cell_type": "code",
   "execution_count": null,
   "id": "9d1746f9",
   "metadata": {},
   "outputs": [],
   "source": [
    "gcs = GraphOfConvexSets()\n",
    "\n",
    "s = gcs.add_vertex(\"s\")\n",
    "qs = s.add_variable(2)\n",
    "s.add_constraint(qs == 0)\n",
    "zs = s.add_variable(1)\n",
    "s.add_constraint(zs == z_max)\n",
    "\n",
    "t = gcs.add_vertex(\"t\")\n",
    "qt = t.add_variable(2)\n",
    "t.add_constraint(qt == 1)\n",
    "zt = t.add_variable(1)\n",
    "t.add_constraint(zt >= 0)\n",
    "t.add_constraint(zt <= z_max)\n",
    "\n",
    "for i in range(n):\n",
    "    vi = gcs.add_vertex(f\"v{i}\")\n",
    "    qi = vi.add_variable(2)\n",
    "    vi.add_constraint(cp.norm(qi - C[i], 2) <= r[i])\n",
    "    zi0 = vi.add_variable(1)\n",
    "    vi.add_constraint(zi0 >= 0)\n",
    "    vi.add_constraint(zi0 <= z_max)\n",
    "    zi1 = vi.add_variable(1)\n",
    "    vi.add_constraint(zi1 >= 0)\n",
    "    vi.add_constraint(zi1 <= z_max)\n",
    "    ti = vi.add_variable(1)\n",
    "    vi.add_constraint(ti >= 0)\n",
    "    vi.add_constraint(ti <= z_max / beta)\n",
    "    vi.add_cost(ti)\n",
    "    vi.add_constraint(zi1 == zi0 + ti * beta)"
   ]
  },
  {
   "cell_type": "code",
   "execution_count": null,
   "id": "f7202f37",
   "metadata": {},
   "outputs": [],
   "source": [
    "for i in range(n):\n",
    "    vi = gcs.get_vertex_by_name(f\"v{i}\")\n",
    "    qi, zi0, zi1, ti = vi.variables\n",
    "    \n",
    "    ds = np.linalg.norm(C[i] - q_init)\n",
    "    if ds < autonomy + r[i]:\n",
    "        qs, zs = s.variables\n",
    "        e = gcs.add_edge(s, vi)\n",
    "        tsi = cp.norm(qi - qs, 2) / vel\n",
    "        e.add_cost(tsi)\n",
    "        e.add_constraint(zi0 <= zs - alpha * tsi)\n",
    "        \n",
    "    dt = np.linalg.norm(C[i] - q_term)\n",
    "    if dt < autonomy + r[i]:\n",
    "        qt, zt = t.variables\n",
    "        e = gcs.add_edge(vi, t)\n",
    "        tti = cp.norm(qi - qt, 2) / vel\n",
    "        e.add_cost(tti)\n",
    "        e.add_constraint(zt <= zi1 - alpha * tti)\n",
    "        \n",
    "    for j in range(n):\n",
    "        if i != j:\n",
    "            dij = np.linalg.norm(C[i] - C[j])\n",
    "            if dij < autonomy + r[i] + r[j]:\n",
    "                vj = gcs.get_vertex_by_name(f\"v{j}\")\n",
    "                qj, zj0, zj1, tj = vj.variables\n",
    "                e = gcs.add_edge(vi, vj)\n",
    "                tij = cp.norm(qi - qj, 2) / vel\n",
    "                e.add_cost(tij)\n",
    "                e.add_constraint(zj0 <= zi1 - alpha * tij)"
   ]
  },
  {
   "cell_type": "code",
   "execution_count": null,
   "id": "32d48e4e",
   "metadata": {},
   "outputs": [],
   "source": [
    "gcs.graphviz()"
   ]
  },
  {
   "cell_type": "code",
   "execution_count": null,
   "id": "46d02adf",
   "metadata": {},
   "outputs": [],
   "source": [
    "prob = gcs.solve_shortest_path(s, t)\n",
    "print('Problem status:', prob.status)\n",
    "print('Optimal value:', prob.value)"
   ]
  },
  {
   "cell_type": "code",
   "execution_count": null,
   "id": "e2d82983",
   "metadata": {},
   "outputs": [],
   "source": [
    "path = [s]\n",
    "path_edges = []\n",
    "while path[-1] != t:\n",
    "    for e in gcs.outgoing_edges(path[-1]):\n",
    "        if e.y.value is not None and e.y.value > 1e-4:\n",
    "            path.append(e.head)\n",
    "            path_edges.append(e)\n",
    "            break"
   ]
  },
  {
   "cell_type": "code",
   "execution_count": null,
   "id": "fdc452ff",
   "metadata": {
    "scrolled": false
   },
   "outputs": [],
   "source": [
    "import matplotlib.pyplot as plt\n",
    "plt.figure(figsize=(5, 5))\n",
    "\n",
    "gcs.plot_subgraph_2d()\n",
    "\n",
    "plot_islands()\n",
    "plt.savefig('spp_drone_flight.pdf', bbox_inches='tight')"
   ]
  },
  {
   "cell_type": "code",
   "execution_count": null,
   "id": "6d328b4e",
   "metadata": {},
   "outputs": [],
   "source": [
    "battery_levels = [s.variables[1].value[0]]\n",
    "times = [0]\n",
    "q = s.variables[0].value\n",
    "for v in path[1:-1]:\n",
    "    \n",
    "    battery_levels.append(v.variables[1].value[0])\n",
    "    q_next = v.variables[0].value\n",
    "    time_v = np.linalg.norm(q_next - q) / vel\n",
    "    times.append(times[-1] + time_v)\n",
    "    q = q_next\n",
    "    \n",
    "    battery_levels.append(v.variables[2].value[0])\n",
    "    times.append(times[-1] + v.variables[3].value[0])\n",
    "    \n",
    "battery_levels.append(t.variables[1].value[0])\n",
    "time_t = np.linalg.norm(t.variables[0].value[0] - q) / vel\n",
    "times.append(times[-1] + time_t)\n",
    "\n",
    "battery_levels  = np.array(battery_levels) * 100\n",
    "times = np.array(times)"
   ]
  },
  {
   "cell_type": "code",
   "execution_count": null,
   "id": "7ceca7b8",
   "metadata": {},
   "outputs": [],
   "source": [
    "plt.figure(figsize=(5, 3))\n",
    "plt.plot([times[0], times[-1]], [100, 100], 'r--')\n",
    "plt.plot([times[0], times[-1]], [0, 0], 'r--')\n",
    "plt.plot(times, battery_levels)\n",
    "plt.xlabel('time')\n",
    "plt.ylabel('battery level (%)')\n",
    "plt.xlim([times[0], times[-1]])\n",
    "plt.grid()\n",
    "plt.savefig('spp_drone_battery.pdf', bbox_inches='tight')"
   ]
  },
  {
   "cell_type": "code",
   "execution_count": null,
   "id": "aee3182b",
   "metadata": {},
   "outputs": [],
   "source": []
  }
 ],
 "metadata": {
  "kernelspec": {
   "display_name": "Python 3 (ipykernel)",
   "language": "python",
   "name": "python3"
  },
  "language_info": {
   "codemirror_mode": {
    "name": "ipython",
    "version": 3
   },
   "file_extension": ".py",
   "mimetype": "text/x-python",
   "name": "python",
   "nbconvert_exporter": "python",
   "pygments_lexer": "ipython3",
   "version": "3.11.6"
  }
 },
 "nbformat": 4,
 "nbformat_minor": 5
}
