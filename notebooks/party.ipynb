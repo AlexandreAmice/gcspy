{
 "cells": [
  {
   "cell_type": "code",
   "execution_count": null,
   "id": "dfd76f13",
   "metadata": {},
   "outputs": [],
   "source": [
    "%matplotlib notebook\n",
    "%load_ext autoreload\n",
    "%autoreload 2"
   ]
  },
  {
   "cell_type": "code",
   "execution_count": null,
   "id": "ffbeecf3",
   "metadata": {},
   "outputs": [],
   "source": [
    "import cvxpy as cp\n",
    "import numpy as np\n",
    "from gcspy import GraphOfConvexSets"
   ]
  },
  {
   "cell_type": "code",
   "execution_count": null,
   "id": "96d1501a",
   "metadata": {},
   "outputs": [],
   "source": [
    "inpos = np.array([\n",
    "    (45, 7),\n",
    "    (50, 8),\n",
    "    (47, 5),\n",
    "    (43, 10),\n",
    "    (48, 11),\n",
    "    (47, 9),\n",
    "    (52, 4),\n",
    "    (41, 6),\n",
    "    (48, 7),\n",
    "    (46, 11),\n",
    "    (42, 8),\n",
    "    (44, 4),\n",
    "    (52, 8),\n",
    "])\n",
    "N = len(inpos)\n",
    "posmin = np.min(inpos, axis=0)\n",
    "posmax = np.max(inpos, axis=0)"
   ]
  },
  {
   "cell_type": "code",
   "execution_count": null,
   "id": "9d1746f9",
   "metadata": {},
   "outputs": [],
   "source": [
    "gcs = GraphOfConvexSets()\n",
    "\n",
    "s = gcs.add_vertex(\"party\")\n",
    "xs = s.add_variable(2)\n",
    "s.add_constraint(xs == inpos[0])\n",
    "\n",
    "for i in range(1, N):\n",
    "    v = gcs.add_vertex(f\"guest {i}\")\n",
    "    x = v.add_variable(2)\n",
    "    if i % 2 == 1:\n",
    "        free = 0\n",
    "        fixed = 1\n",
    "    else:\n",
    "        fixed = 0\n",
    "        free = 1\n",
    "    v.add_constraint(x[fixed] == inpos[i, fixed])\n",
    "    v.add_constraint(x[free] >= posmin[free])\n",
    "    v.add_constraint(x[free] <= posmax[free])\n",
    "    v.add_cost(cp.norm(x[free] - inpos[i, free], 1))"
   ]
  },
  {
   "cell_type": "code",
   "execution_count": null,
   "id": "7816b994",
   "metadata": {},
   "outputs": [],
   "source": [
    "for tail in gcs.vertices:\n",
    "    for head in gcs.vertices:\n",
    "        if tail != head:\n",
    "            edge = gcs.add_edge(tail, head)\n",
    "            edge.add_cost(cp.norm(tail.variables[0] - head.variables[0], 1))"
   ]
  },
  {
   "cell_type": "code",
   "execution_count": null,
   "id": "c9bda818",
   "metadata": {},
   "outputs": [],
   "source": [
    "gcs.graphviz()"
   ]
  },
  {
   "cell_type": "code",
   "execution_count": null,
   "id": "e0e37c42",
   "metadata": {},
   "outputs": [],
   "source": [
    "prob = gcs.solve_traveling_salesman()\n",
    "print('Problem status:', prob.status)\n",
    "print('Optimal value:', prob.value)"
   ]
  },
  {
   "cell_type": "code",
   "execution_count": null,
   "id": "37b75bed",
   "metadata": {},
   "outputs": [],
   "source": [
    "arrowstyle = \"->, head_width=3, head_length=8\"\n",
    "def l1_arrow(tail, head, color):\n",
    "    options = dict(color=color, zorder=2, arrowstyle=arrowstyle)\n",
    "    if not np.isclose(tail[0], head[0]):\n",
    "        arrow = patches.FancyArrowPatch(tail, (head[0], tail[1]), **options)\n",
    "        plt.gca().add_patch(arrow)\n",
    "    if not np.isclose(tail[1], head[1]):\n",
    "        arrow = patches.FancyArrowPatch((head[0], tail[1]), head, **options)\n",
    "        plt.gca().add_patch(arrow)\n",
    "    \n",
    "def taxi_path(tol=1e-4):\n",
    "    for edge in gcs.edges:\n",
    "        if edge.y.value is not None and edge.y.value > tol:\n",
    "            tail = edge.tail.variables[0].value\n",
    "            head = edge.head.variables[0].value\n",
    "            l1_arrow(tail, head, 'blue')"
   ]
  },
  {
   "cell_type": "code",
   "execution_count": null,
   "id": "5d8f96ac",
   "metadata": {},
   "outputs": [],
   "source": [
    "import matplotlib.pyplot as plt\n",
    "import matplotlib.patches as patches\n",
    "plt.figure()\n",
    "taxi_path()\n",
    "for i, v in enumerate(gcs.vertices):\n",
    "    if i > 0:\n",
    "        if i % 2 == 1:\n",
    "            ha = 'center'\n",
    "            va = 'bottom'\n",
    "        else:\n",
    "            ha = 'left'\n",
    "            va = 'center'\n",
    "        xv = v.variables[0].value\n",
    "        plt.scatter(*xv, fc='g', ec='k', zorder=3)\n",
    "        plt.scatter(*inpos[i], fc='w', ec='k', zorder=3, s=200)\n",
    "        plt.text(*inpos[i], str(i),  ha='center', va='center', zorder=3)\n",
    "        l1_arrow(inpos[i], xv, 'k')\n",
    "        \n",
    "plt.scatter(*inpos[0], marker='*', fc='yellow', ec='k', zorder=3, s=200, label='party')\n",
    "plt.scatter(np.nan, np.nan, fc='w', ec='k', s=200, label='guest initial')\n",
    "plt.scatter(np.nan, np.nan, fc='g', ec='k', label='guest optimal')\n",
    "plt.plot([np.nan, np.nan], [np.nan, np.nan], c='k', label='guest motion')\n",
    "plt.plot([np.nan, np.nan], [np.nan, np.nan], c='b', label='host motion')\n",
    "\n",
    "plt.xticks(range(posmin[0] - 1, posmax[0] + 2))\n",
    "plt.yticks(range(posmin[1] - 1, posmax[1] + 2))\n",
    "plt.xlim([posmin[0] - 1, posmax[0] + 1])\n",
    "plt.ylim([posmin[1] - 1, posmax[1] + 1])\n",
    "plt.grid()\n",
    "plt.legend(loc=1)\n",
    "\n",
    "plt.savefig('party.pdf', bbox_inches='tight')"
   ]
  },
  {
   "cell_type": "code",
   "execution_count": null,
   "id": "bb9ff2d0",
   "metadata": {},
   "outputs": [],
   "source": []
  }
 ],
 "metadata": {
  "kernelspec": {
   "display_name": "Python 3 (ipykernel)",
   "language": "python",
   "name": "python3"
  },
  "language_info": {
   "codemirror_mode": {
    "name": "ipython",
    "version": 3
   },
   "file_extension": ".py",
   "mimetype": "text/x-python",
   "name": "python",
   "nbconvert_exporter": "python",
   "pygments_lexer": "ipython3",
   "version": "3.11.6"
  }
 },
 "nbformat": 4,
 "nbformat_minor": 5
}
