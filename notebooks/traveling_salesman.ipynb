{
 "cells": [
  {
   "cell_type": "code",
   "execution_count": null,
   "id": "dfd76f13",
   "metadata": {},
   "outputs": [],
   "source": [
    "%matplotlib notebook\n",
    "%load_ext autoreload\n",
    "%autoreload 2"
   ]
  },
  {
   "cell_type": "code",
   "execution_count": null,
   "id": "ffbeecf3",
   "metadata": {},
   "outputs": [],
   "source": [
    "import cvxpy as cp\n",
    "import numpy as np\n",
    "from gcspy import GraphOfConvexSets"
   ]
  },
  {
   "cell_type": "code",
   "execution_count": null,
   "id": "9d1746f9",
   "metadata": {},
   "outputs": [],
   "source": [
    "gcs = GraphOfConvexSets()\n",
    "\n",
    "v1 = gcs.add_vertex(\"v1\")\n",
    "x1 = v1.add_variable(2)\n",
    "c1 = np.array([-2, 0])\n",
    "v1.add_constraint(cp.norm(x1 - c1, np.inf) <= .5)\n",
    "v1.add_cost(2 * cp.sum_squares(x1 - c1))\n",
    "\n",
    "v2 = gcs.add_vertex(\"v2\")\n",
    "x2 = v2.add_variable(2)\n",
    "c2 = np.array([0, 1.5])\n",
    "D2 = np.diag([1, 2])\n",
    "v2.add_constraint(cp.norm(D2 @ (x2 - c2), np.inf) <= 1)\n",
    "v2.add_cost(2 * cp.sum_squares(x2 - c2))\n",
    "\n",
    "v3 = gcs.add_vertex(\"v3\")\n",
    "x3 = v3.add_variable(2)\n",
    "c3 = np.array([2, 0])\n",
    "v3.add_constraint(cp.norm(x3 - c3, 2) <= .5)\n",
    "v3.add_cost(2 * cp.sum_squares(x3 - c3))\n",
    "\n",
    "v4 = gcs.add_vertex(\"v4\")\n",
    "x4 = v4.add_variable(2)\n",
    "c4 = np.array([0, -2])\n",
    "D4 = np.diag([1, 2])\n",
    "v4.add_constraint(cp.norm(D4 @ (x4 - c4), 2) <= 1)\n",
    "v4.add_cost(2 * cp.sum_squares(x4 - c4))\n",
    "\n",
    "v5 = gcs.add_vertex(\"v5\")\n",
    "x5 = v5.add_variable(2)\n",
    "c5 = np.array([-.5, -.5])\n",
    "v5.add_constraint(cp.norm(x5 - c5, 1) <= .4)\n",
    "v5.add_cost(2 * cp.sum_squares(x5 - c5))"
   ]
  },
  {
   "cell_type": "code",
   "execution_count": null,
   "id": "7816b994",
   "metadata": {},
   "outputs": [],
   "source": [
    "for u in gcs.vertices:\n",
    "    for v in gcs.vertices:\n",
    "        if u != v:\n",
    "            e = gcs.add_edge(u, v)\n",
    "            e.add_cost(cp.norm(u.variables[0] - v.variables[0], 2))"
   ]
  },
  {
   "cell_type": "code",
   "execution_count": null,
   "id": "c9bda818",
   "metadata": {},
   "outputs": [],
   "source": [
    "from gcspy import graphviz_gcs\n",
    "graphviz_gcs(gcs)"
   ]
  },
  {
   "cell_type": "code",
   "execution_count": null,
   "id": "e0e37c42",
   "metadata": {},
   "outputs": [],
   "source": [
    "prob = gcs.traveling_salesman()\n",
    "print('Problem status:', prob.status)\n",
    "print('Optimal value:', prob.value)\n",
    "print('Vertex binaries:', {vertex.name: round(vertex.value, 4) for vertex in gcs.vertices})\n",
    "print('Edge binaries:', {edge.name: round(edge.value, 4) for edge in gcs.edges})"
   ]
  },
  {
   "cell_type": "code",
   "execution_count": null,
   "id": "5d8f96ac",
   "metadata": {},
   "outputs": [],
   "source": [
    "import matplotlib.pyplot as plt\n",
    "from gcspy import plot_gcs_2d, plot_solution_2d\n",
    "\n",
    "plt.figure()\n",
    "plt.gca().set_aspect('equal')\n",
    "plot_gcs_2d(gcs)\n",
    "plot_solution_2d(gcs)"
   ]
  },
  {
   "cell_type": "code",
   "execution_count": null,
   "id": "9d8aba61",
   "metadata": {},
   "outputs": [],
   "source": []
  }
 ],
 "metadata": {
  "kernelspec": {
   "display_name": "Python 3 (ipykernel)",
   "language": "python",
   "name": "python3"
  },
  "language_info": {
   "codemirror_mode": {
    "name": "ipython",
    "version": 3
   },
   "file_extension": ".py",
   "mimetype": "text/x-python",
   "name": "python",
   "nbconvert_exporter": "python",
   "pygments_lexer": "ipython3",
   "version": "3.11.2"
  }
 },
 "nbformat": 4,
 "nbformat_minor": 5
}
