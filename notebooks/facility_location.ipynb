{
 "cells": [
  {
   "cell_type": "code",
   "execution_count": null,
   "id": "dfd76f13",
   "metadata": {},
   "outputs": [],
   "source": [
    "%matplotlib notebook\n",
    "%load_ext autoreload\n",
    "%autoreload 2"
   ]
  },
  {
   "cell_type": "code",
   "execution_count": null,
   "id": "ffbeecf3",
   "metadata": {},
   "outputs": [],
   "source": [
    "import cvxpy as cp\n",
    "import numpy as np\n",
    "from gcspy import GraphOfConvexSets"
   ]
  },
  {
   "cell_type": "code",
   "execution_count": null,
   "id": "9d1746f9",
   "metadata": {},
   "outputs": [],
   "source": [
    "gcs = GraphOfConvexSets()\n",
    "\n",
    "f1 = gcs.add_vertex(\"f1\")\n",
    "xf1 = f1.add_variable(2)\n",
    "cf1 = np.array([3, 2.5])\n",
    "f1.add_constraint(cp.norm(xf1 - cf1, np.inf) <= .5)\n",
    "\n",
    "f2 = gcs.add_vertex(\"f2\")\n",
    "xf2 = f2.add_variable(2)\n",
    "cf2 = np.array([3, -1])\n",
    "Df2 = np.diag([2, .5])\n",
    "f2.add_constraint(cp.norm(Df2 @ (xf2 - cf2), np.inf) <= 1)\n",
    "\n",
    "u1 = gcs.add_vertex(\"u1\")\n",
    "xu1 = u1.add_variable(2)\n",
    "cu1 = np.array([0, .5])\n",
    "u1.add_constraint(cp.norm(xu1 - cu1, 2) <= .5)\n",
    "\n",
    "u2 = gcs.add_vertex(\"u2\")\n",
    "xu2 = u2.add_variable(2)\n",
    "cu2 = np.array([0, -1])\n",
    "u2.add_constraint(cp.norm(xu2 - cu2, 2) <= .5)\n",
    "\n",
    "u3 = gcs.add_vertex(\"u3\")\n",
    "xu3 = u3.add_variable(2)\n",
    "cu3 = np.array([0, -2.5])\n",
    "u3.add_constraint(cp.norm(xu3 - cu3, 2) <= .5)"
   ]
  },
  {
   "cell_type": "code",
   "execution_count": null,
   "id": "7816b994",
   "metadata": {},
   "outputs": [],
   "source": [
    "facilities = [f1, f2]\n",
    "users = [u1, u2, u3]\n",
    "for facility in facilities:\n",
    "    for user in users:\n",
    "        edge = gcs.add_edge(facility, user)\n",
    "        edge.add_cost(cp.norm(facility.variables[0] - user.variables[0], 2))"
   ]
  },
  {
   "cell_type": "code",
   "execution_count": null,
   "id": "c9bda818",
   "metadata": {},
   "outputs": [],
   "source": [
    "gcs.graphviz()"
   ]
  },
  {
   "cell_type": "code",
   "execution_count": null,
   "id": "e0e37c42",
   "metadata": {},
   "outputs": [],
   "source": [
    "prob = gcs.solve_facility_location()\n",
    "print('Problem status:', prob.status)\n",
    "print('Optimal value:', prob.value)"
   ]
  },
  {
   "cell_type": "code",
   "execution_count": null,
   "id": "5d8f96ac",
   "metadata": {},
   "outputs": [],
   "source": [
    "import matplotlib.pyplot as plt\n",
    "plt.figure()\n",
    "plt.gca().set_aspect('equal')\n",
    "plt.axis('off')\n",
    "gcs.plot_2d()\n",
    "gcs.plot_subgraph_2d()\n",
    "# plt.savefig('facility_location.pdf')"
   ]
  },
  {
   "cell_type": "markdown",
   "id": "95b57fac",
   "metadata": {},
   "source": [
    "# From ILP"
   ]
  },
  {
   "cell_type": "code",
   "execution_count": null,
   "id": "06c53806",
   "metadata": {},
   "outputs": [],
   "source": [
    "ilp_constraints = []\n",
    "yv = gcs.vertex_binaries()\n",
    "ye = gcs.edge_binaries()\n",
    "\n",
    "for i, v in enumerate(gcs.vertices):\n",
    "    inc_edges = gcs.incoming_indices(v)\n",
    "    if len(inc_edges) == 0:\n",
    "        ilp_constraints.append(yv[i] <= 1)\n",
    "    else:\n",
    "        ilp_constraints.append(yv[i] == 1)\n",
    "        ilp_constraints.append(sum(ye[inc_edges]) == 1)\n",
    "        \n",
    "for k, edge in enumerate(gcs.edges):\n",
    "    i = gcs.vertex_index(edge.tail)\n",
    "    ilp_constraints.append(yv[i] >= ye[k])"
   ]
  },
  {
   "cell_type": "code",
   "execution_count": null,
   "id": "94cd45df",
   "metadata": {},
   "outputs": [],
   "source": [
    "prob = gcs.solve_from_ilp(ilp_constraints)\n",
    "print('Problem status:', prob.status)\n",
    "print('Optimal value:', prob.value)"
   ]
  },
  {
   "cell_type": "code",
   "execution_count": null,
   "id": "1a065816",
   "metadata": {},
   "outputs": [],
   "source": []
  }
 ],
 "metadata": {
  "kernelspec": {
   "display_name": "Python 3 (ipykernel)",
   "language": "python",
   "name": "python3"
  },
  "language_info": {
   "codemirror_mode": {
    "name": "ipython",
    "version": 3
   },
   "file_extension": ".py",
   "mimetype": "text/x-python",
   "name": "python",
   "nbconvert_exporter": "python",
   "pygments_lexer": "ipython3",
   "version": "3.11.2"
  }
 },
 "nbformat": 4,
 "nbformat_minor": 5
}
