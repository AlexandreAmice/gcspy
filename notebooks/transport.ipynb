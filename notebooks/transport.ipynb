{
 "cells": [
  {
   "cell_type": "code",
   "execution_count": null,
   "id": "dfd76f13",
   "metadata": {},
   "outputs": [],
   "source": [
    "%matplotlib notebook\n",
    "%load_ext autoreload\n",
    "%autoreload 2"
   ]
  },
  {
   "cell_type": "code",
   "execution_count": null,
   "id": "98415e82",
   "metadata": {},
   "outputs": [],
   "source": [
    "import matplotlib.pyplot as plt\n",
    "import numpy as np\n",
    "\n",
    "from scipy.stats import multivariate_normal\n",
    "from scipy.linalg import sqrtm\n",
    "\n",
    "def wasserstein(m1, m2, S1, S2):\n",
    "    dm = m2 - m1\n",
    "    S1_half = sqrtm(S1)\n",
    "    dS = S1 + S2 - 2 * sqrtm(S1_half.dot(S2).dot(S1_half))\n",
    "    return np.sqrt(dm.dot(dm) + np.trace(dS))\n",
    "\n",
    "def plot(p, xlim=[-5, 5], ylim=[-5, 5], n=200):\n",
    "    X = np.linspace(*xlim, n)\n",
    "    Y = np.linspace(*ylim, n)\n",
    "    X, Y = np.meshgrid(X, Y)\n",
    "    pos = np.dstack((X, Y))\n",
    "    Z = p.pdf(pos)\n",
    "    plt.contour(X, Y, Z)\n",
    "    \n",
    "m1 = np.array([0, 2])\n",
    "S1 = np.array([[100, 0], [0, 10]])\n",
    "\n",
    "m2 = np.array([0, -2])\n",
    "S2 = np.array([[1, .3], [.3, 1]])\n",
    "\n",
    "print(\"Wasserstein distance:\", wasserstein(m1, m2, S1, S2))\n",
    "\n",
    "plt.figure()\n",
    "p1 = multivariate_normal(m1, S1)\n",
    "p2 = multivariate_normal(m2, S2)\n",
    "plot(p1)\n",
    "plot(p2)"
   ]
  },
  {
   "cell_type": "code",
   "execution_count": null,
   "id": "12af93da",
   "metadata": {},
   "outputs": [],
   "source": [
    "import cvxpy as cp\n",
    "\n",
    "def opt_wasserstein(m1, m2, S1, S2):\n",
    "    C = cp.Variable((4, 4), PSD=True)\n",
    "    constraints = [C[:2, :2] == S1, C[2:, 2:] == S2]\n",
    "    cost = cp.sum_squares(m2 - m1) + cp.trace(S1 + S2 - 2 * C[:2, 2:])\n",
    "    prob = cp.Problem(cp.Minimize(cost), constraints)\n",
    "    prob.solve()\n",
    "    return np.sqrt(prob.value)\n",
    "print(\"Wasserstein distance:\", opt_wasserstein(m1, m2, S1, S2))"
   ]
  },
  {
   "cell_type": "code",
   "execution_count": null,
   "id": "11d66271",
   "metadata": {},
   "outputs": [],
   "source": []
  }
 ],
 "metadata": {
  "kernelspec": {
   "display_name": "Python 3 (ipykernel)",
   "language": "python",
   "name": "python3"
  },
  "language_info": {
   "codemirror_mode": {
    "name": "ipython",
    "version": 3
   },
   "file_extension": ".py",
   "mimetype": "text/x-python",
   "name": "python",
   "nbconvert_exporter": "python",
   "pygments_lexer": "ipython3",
   "version": "3.11.6"
  }
 },
 "nbformat": 4,
 "nbformat_minor": 5
}
