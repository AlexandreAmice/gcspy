{
 "cells": [
  {
   "cell_type": "code",
   "execution_count": null,
   "id": "dfd76f13",
   "metadata": {},
   "outputs": [],
   "source": [
    "%matplotlib notebook\n",
    "%load_ext autoreload\n",
    "%autoreload 2"
   ]
  },
  {
   "cell_type": "code",
   "execution_count": null,
   "id": "ffbeecf3",
   "metadata": {},
   "outputs": [],
   "source": [
    "import cvxpy as cp\n",
    "import numpy as np\n",
    "from gcspy import GraphOfConvexSets"
   ]
  },
  {
   "cell_type": "code",
   "execution_count": null,
   "id": "9d1746f9",
   "metadata": {},
   "outputs": [],
   "source": [
    "gcs = GraphOfConvexSets()\n",
    "\n",
    "n = 3\n",
    "for i in range(n):\n",
    "    for j in range(n):\n",
    "        v = gcs.add_vertex(f\"v{(i,j)}\")\n",
    "        x = v.add_variable(2)\n",
    "        c = np.array([i, j])\n",
    "        v.add_constraint(cp.norm(x - c, 2) <= .25)"
   ]
  },
  {
   "cell_type": "code",
   "execution_count": null,
   "id": "556a4ed5",
   "metadata": {},
   "outputs": [],
   "source": [
    "for tail in gcs.vertices:\n",
    "    for head in gcs.vertices:\n",
    "        if tail != head:\n",
    "            edge = gcs.add_edge(tail, head)\n",
    "            edge.add_cost(cp.norm(head.variables[0] - tail.variables[0], 2))"
   ]
  },
  {
   "cell_type": "code",
   "execution_count": null,
   "id": "6780a62e",
   "metadata": {},
   "outputs": [],
   "source": [
    "from itertools import combinations\n",
    "\n",
    "ilp_constraints = []\n",
    "yv = gcs.vertex_binaries()\n",
    "ye = gcs.edge_binaries()\n",
    "\n",
    "for i, vertex in enumerate(gcs.vertices):\n",
    "    ilp_constraints.append(yv[i] == 1)\n",
    "    inc_edges = gcs.incoming_indices(vertex)\n",
    "    if i == 0:\n",
    "        ilp_constraints.append(sum(ye[inc_edges]) == 0)\n",
    "    else:\n",
    "        ilp_constraints.append(sum(ye[inc_edges]) == 1)\n",
    "        \n",
    "for r in range(2, gcs.num_vertices()):\n",
    "    for vertices in combinations(gcs.vertices[1:], r):\n",
    "        inc_edges = gcs.incoming_indices(vertices)\n",
    "        ilp_constraints.append(sum(ye[inc_edges]) >= 1)\n",
    "        \n",
    "for k in range(gcs.num_edges()):\n",
    "    ilp_constraints.append(ye[k] >= 0)\n",
    "    ilp_constraints.append(ye[k] <= 1)"
   ]
  },
  {
   "cell_type": "code",
   "execution_count": null,
   "id": "c5b84270",
   "metadata": {},
   "outputs": [],
   "source": [
    "prob = gcs.solve_from_ilp(ilp_constraints)\n",
    "print('Problem status:', prob.status)\n",
    "print('Optimal value:', prob.value)"
   ]
  },
  {
   "cell_type": "code",
   "execution_count": null,
   "id": "5d8f96ac",
   "metadata": {},
   "outputs": [],
   "source": [
    "import matplotlib.pyplot as plt\n",
    "plt.figure()\n",
    "plt.gca().set_aspect('equal')\n",
    "plt.axis('off')\n",
    "gcs.plot_2d()\n",
    "gcs.plot_subgraph_2d()\n",
    "# plt.savefig('spanning_tree.pdf')"
   ]
  },
  {
   "cell_type": "code",
   "execution_count": null,
   "id": "98db18b5",
   "metadata": {},
   "outputs": [],
   "source": []
  }
 ],
 "metadata": {
  "kernelspec": {
   "display_name": "Python 3 (ipykernel)",
   "language": "python",
   "name": "python3"
  },
  "language_info": {
   "codemirror_mode": {
    "name": "ipython",
    "version": 3
   },
   "file_extension": ".py",
   "mimetype": "text/x-python",
   "name": "python",
   "nbconvert_exporter": "python",
   "pygments_lexer": "ipython3",
   "version": "3.11.2"
  }
 },
 "nbformat": 4,
 "nbformat_minor": 5
}
