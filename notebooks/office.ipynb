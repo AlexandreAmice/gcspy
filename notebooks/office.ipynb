{
 "cells": [
  {
   "cell_type": "code",
   "execution_count": null,
   "id": "dfd76f13",
   "metadata": {},
   "outputs": [],
   "source": [
    "%matplotlib notebook\n",
    "%load_ext autoreload\n",
    "%autoreload 2"
   ]
  },
  {
   "cell_type": "code",
   "execution_count": null,
   "id": "ffbeecf3",
   "metadata": {},
   "outputs": [],
   "source": [
    "import cvxpy as cp\n",
    "import numpy as np\n",
    "from gcspy import GraphOfConvexSets"
   ]
  },
  {
   "cell_type": "code",
   "execution_count": null,
   "id": "9d1746f9",
   "metadata": {},
   "outputs": [],
   "source": [
    "gcs = GraphOfConvexSets()\n",
    "\n",
    "rooms = [\n",
    "([0, 5], [2, 8]),\n",
    "([0, 3], [4, 5]),\n",
    "([0, 0], [2, 3]),\n",
    "([2, 5], [4, 8]),\n",
    "([2, 0], [4, 3]),\n",
    "([4, 0], [6, 8]),\n",
    "([6, 7], [8, 8]),\n",
    "([6, 1], [8, 7]),\n",
    "([6, 0], [8, 1]),\n",
    "([8, 0], [10, 8]),\n",
    "([10, 5], [12, 8]),\n",
    "([10, 4], [12, 5]),\n",
    "([10, 1], [12, 4]),\n",
    "([10, 0], [12, 1]),\n",
    "([12, 0], [14, 8]),\n",
    "([14, 3], [16, 8]),\n",
    "([14, 0], [16, 3]),\n",
    "]\n",
    "\n",
    "def add_room(n, l, u):\n",
    "    v = gcs.add_vertex(f\"room{n}\")\n",
    "    x1 = v.add_variable(2)\n",
    "    x2 = v.add_variable(2)\n",
    "    v.add_constraint(x1 >= l)\n",
    "    v.add_constraint(x2 >= l)\n",
    "    v.add_constraint(x1 <= u)\n",
    "    v.add_constraint(x2 <= u)\n",
    "    v.add_cost(cp.norm(x2 - x1, 2))\n",
    "    return v\n",
    "\n",
    "for n, room in enumerate(rooms):\n",
    "    add_room(n, *room)"
   ]
  },
  {
   "cell_type": "code",
   "execution_count": null,
   "id": "0fa09136",
   "metadata": {},
   "outputs": [],
   "source": [
    "doors = [\n",
    "(0, 3, [2, 7], [2, 8]),\n",
    "(1, 2, [0, 3], [1, 3]),\n",
    "(1, 5, [4, 4], [4, 5]),\n",
    "(2, 4, [2, 2], [2, 3]),\n",
    "(3, 5, [4, 5], [4, 8]),\n",
    "(4, 5, [4, 0], [4, 3]),\n",
    "(5, 6, [6, 7], [6, 8]),\n",
    "(5, 7, [6, 3], [6, 4]),\n",
    "(5, 8, [6, 0], [6, 1]),\n",
    "(6, 9, [8, 7], [8, 8]),\n",
    "(7, 9, [8, 3], [8, 4]),\n",
    "(8, 9, [8, 0], [8, 1]),\n",
    "(9, 10, [10, 7], [10, 8]),\n",
    "(9, 11, [10, 4], [10, 5]),\n",
    "(9, 13, [10, 0], [10, 1]),\n",
    "(10, 14, [12, 5], [12, 6]),\n",
    "(11, 14, [12, 4], [12, 5]),\n",
    "(12, 14, [12, 1], [12, 2]),\n",
    "(13, 14, [12, 0], [12, 1]),\n",
    "(14, 15, [14, 7], [14, 8]),\n",
    "(14, 16, [14, 2], [14, 3]),\n",
    "]\n",
    "\n",
    "def add_door(n, m, l, u):\n",
    "    tail = gcs.vertices[n]\n",
    "    head = gcs.vertices[m]\n",
    "    e = gcs.add_edge(tail, head)\n",
    "    e.add_constraint(tail.variables[1] == head.variables[0])\n",
    "    e.add_constraint(tail.variables[1] >= l)\n",
    "    e.add_constraint(tail.variables[1] <= u)\n",
    "    return e\n",
    "\n",
    "def add_two_doors(n, m, l, u):\n",
    "    e1 = add_door(n, m, l, u)\n",
    "    e2 = add_door(m, n, l, u)\n",
    "    return e1, e2\n",
    "    \n",
    "for door in doors:\n",
    "    add_two_doors(*door)"
   ]
  },
  {
   "cell_type": "code",
   "execution_count": null,
   "id": "46d02adf",
   "metadata": {},
   "outputs": [],
   "source": [
    "s = gcs.get_vertex_by_name(\"room2\")\n",
    "t = gcs.get_vertex_by_name(\"room15\")\n",
    "prob = gcs.solve_shortest_path(s, t)\n",
    "print('Problem status:', prob.status)\n",
    "print('Optimal value:', prob.value)"
   ]
  },
  {
   "cell_type": "code",
   "execution_count": null,
   "id": "fdc452ff",
   "metadata": {
    "scrolled": false
   },
   "outputs": [],
   "source": [
    "import matplotlib.pyplot as plt\n",
    "import matplotlib.patches as patches\n",
    "\n",
    "\n",
    "def plot_room(n, l, u):\n",
    "    l = np.array(l)\n",
    "    u = np.array(u)\n",
    "    rect = patches.Rectangle(l, *(u - l), ec='k', fc='mintcream')\n",
    "    c = (l + u) / 2\n",
    "    plt.text(*c, n, zorder=3, ha='center', va='center')\n",
    "    plt.gca().add_patch(rect)\n",
    "    \n",
    "def plot_door(l, u):\n",
    "    l = np.array(l)\n",
    "    u = np.array(u)\n",
    "    rect = patches.Rectangle(l, *(u - l), ec='lightgreen', fc='lightgreen')\n",
    "    plt.gca().add_patch(rect)\n",
    "    \n",
    "plt.figure()\n",
    "\n",
    "for n, room in enumerate(rooms):\n",
    "    plot_room(n, *room)\n",
    "    \n",
    "for door in doors:\n",
    "    plot_door(door[2], door[3])\n",
    "\n",
    "for vertex in gcs.vertices:\n",
    "    if vertex.y.value > 0.5:\n",
    "        x1, x2 = vertex.variables\n",
    "        values = np.array([x1.value, x2.value]).T\n",
    "        plt.plot(*values, c='b', linestyle='--')"
   ]
  }
 ],
 "metadata": {
  "kernelspec": {
   "display_name": "Python 3 (ipykernel)",
   "language": "python",
   "name": "python3"
  },
  "language_info": {
   "codemirror_mode": {
    "name": "ipython",
    "version": 3
   },
   "file_extension": ".py",
   "mimetype": "text/x-python",
   "name": "python",
   "nbconvert_exporter": "python",
   "pygments_lexer": "ipython3",
   "version": "3.11.2"
  }
 },
 "nbformat": 4,
 "nbformat_minor": 5
}
