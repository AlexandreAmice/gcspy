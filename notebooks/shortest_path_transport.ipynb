{
 "cells": [
  {
   "cell_type": "code",
   "execution_count": null,
   "id": "dfd76f13",
   "metadata": {},
   "outputs": [],
   "source": [
    "%matplotlib notebook\n",
    "%load_ext autoreload\n",
    "%autoreload 2"
   ]
  },
  {
   "cell_type": "code",
   "execution_count": null,
   "id": "ffbeecf3",
   "metadata": {},
   "outputs": [],
   "source": [
    "import cvxpy as cp\n",
    "import numpy as np\n",
    "from gcspy import GraphOfConvexSets"
   ]
  },
  {
   "cell_type": "code",
   "execution_count": null,
   "id": "9d1746f9",
   "metadata": {},
   "outputs": [],
   "source": [
    "gcs = GraphOfConvexSets()\n",
    "max_trace = 10\n",
    "\n",
    "s = gcs.add_vertex(\"s\")\n",
    "ms = s.add_variable(2)\n",
    "Ss = s.add_variable((2, 2))\n",
    "s.add_constraint(ms == [0, 0])\n",
    "s.add_constraint(Ss == [[.1, 0], [0, 1]])\n",
    "\n",
    "v1 = gcs.add_vertex(\"v1\")\n",
    "m1 = v1.add_variable(2)\n",
    "S1 = v1.add_variable((2, 2), PSD=True)\n",
    "c1 = np.array([3, 2])\n",
    "v1.add_constraint(cp.norm(m1 - c1, np.inf) <= 1)\n",
    "v1.add_constraint(cp.trace(S1) <= max_trace)\n",
    "\n",
    "v2 = gcs.add_vertex(\"v2\")\n",
    "m2 = v2.add_variable(2)\n",
    "S2 = v2.add_variable((2, 2), PSD=True)\n",
    "c2 = np.array([6, -3])\n",
    "v2.add_constraint(cp.norm(m2 - c2, 2) <= 1)\n",
    "v2.add_constraint(cp.trace(S2) <= max_trace)\n",
    "\n",
    "v3 = gcs.add_vertex(\"v3\")\n",
    "m3 = v3.add_variable(2)\n",
    "S3 = v3.add_variable((2, 2), PSD=True)\n",
    "c3 = np.array([7, 2])\n",
    "v3.add_constraint(cp.norm(m3 - c3, 1) <= 1.5)\n",
    "v3.add_constraint(cp.trace(S3) <= max_trace)\n",
    "\n",
    "t = gcs.add_vertex(\"t\")\n",
    "mt = t.add_variable(2)\n",
    "St = t.add_variable((2, 2))\n",
    "t.add_constraint(mt == [10, 0])\n",
    "t.add_constraint(St == [[1, 0], [0, .1]])"
   ]
  },
  {
   "cell_type": "code",
   "execution_count": null,
   "id": "0fa09136",
   "metadata": {},
   "outputs": [],
   "source": [
    "def add_edge(tail, head):\n",
    "    edge = gcs.add_edge(tail, head)\n",
    "    S = edge.add_variable((4, 4), PSD=True)\n",
    "    m1, S1 = tail.variables\n",
    "    m2, S2 = head.variables\n",
    "    edge.add_constraint(S[:2, :2] == S1)\n",
    "    edge.add_constraint(S[2:, 2:] == S2)\n",
    "    edge.add_cost(cp.sum_squares(m2 - m1))\n",
    "    edge.add_cost(cp.trace(S1 + S2 - 2 * S[:2, 2:]))\n",
    "    return edge\n",
    "\n",
    "es1 = add_edge(s, v1)\n",
    "es2 = add_edge(s, v2)\n",
    "e12 = add_edge(v1, v2)\n",
    "e13 = add_edge(v1, v3)\n",
    "e23 = add_edge(v2, v3)\n",
    "e2t = add_edge(v2, t)\n",
    "e3t = add_edge(v3, t)"
   ]
  },
  {
   "cell_type": "code",
   "execution_count": null,
   "id": "32d48e4e",
   "metadata": {},
   "outputs": [],
   "source": [
    "gcs.graphviz()"
   ]
  },
  {
   "cell_type": "code",
   "execution_count": null,
   "id": "46d02adf",
   "metadata": {},
   "outputs": [],
   "source": [
    "prob = gcs.solve_shortest_path(s, t)\n",
    "print('Problem status:', prob.status)\n",
    "print('Optimal value:', prob.value)"
   ]
  },
  {
   "cell_type": "code",
   "execution_count": null,
   "id": "fdc452ff",
   "metadata": {
    "scrolled": false
   },
   "outputs": [],
   "source": [
    "import matplotlib.pyplot as plt\n",
    "from scipy.stats import multivariate_normal\n",
    "\n",
    "def plot_gaussian(m, S, n=100):\n",
    "    p = multivariate_normal(m, S)\n",
    "    X = np.linspace(m[0] - 5, m[0] + 5, n)\n",
    "    Y = np.linspace(m[1] - 5, m[1] + 5, n)\n",
    "    X, Y = np.meshgrid(X, Y)\n",
    "    pos = np.dstack((X, Y))\n",
    "    Z = p.pdf(pos)\n",
    "    plt.contour(X, Y, Z)\n",
    "\n",
    "plt.figure()\n",
    "plt.gca().set_aspect('equal')\n",
    "plt.axis('off')\n",
    "gcs.plot_2d()\n",
    "\n",
    "for vertex in gcs.vertices:\n",
    "    if vertex.y.value is not None and vertex.y.value > .99:\n",
    "        m, S = vertex.variables\n",
    "        plot_gaussian(m.value, S.value)"
   ]
  }
 ],
 "metadata": {
  "kernelspec": {
   "display_name": "Python 3 (ipykernel)",
   "language": "python",
   "name": "python3"
  },
  "language_info": {
   "codemirror_mode": {
    "name": "ipython",
    "version": 3
   },
   "file_extension": ".py",
   "mimetype": "text/x-python",
   "name": "python",
   "nbconvert_exporter": "python",
   "pygments_lexer": "ipython3",
   "version": "3.11.2"
  }
 },
 "nbformat": 4,
 "nbformat_minor": 5
}
