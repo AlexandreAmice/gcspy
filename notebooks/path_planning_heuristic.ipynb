{
 "cells": [
  {
   "cell_type": "code",
   "execution_count": null,
   "id": "73f405fc",
   "metadata": {},
   "outputs": [],
   "source": [
    "%matplotlib notebook\n",
    "%load_ext autoreload\n",
    "%autoreload 2"
   ]
  },
  {
   "cell_type": "code",
   "execution_count": null,
   "id": "91b70de9",
   "metadata": {},
   "outputs": [],
   "source": [
    "import numpy as np\n",
    "import cvxpy as cp\n",
    "import networkx as nx\n",
    "import matplotlib.pyplot as plt\n",
    "\n",
    "from time import time\n",
    "from itertools import product\n",
    "from matplotlib.patches import Rectangle"
   ]
  },
  {
   "cell_type": "code",
   "execution_count": null,
   "id": "1ff7ef39",
   "metadata": {},
   "outputs": [],
   "source": [
    "np.random.seed(0)\n",
    "n_points = 31\n",
    "box_sides = np.array([2, .5])\n",
    "box_min = np.zeros((n_points, n_points, len(box_sides)))\n",
    "box_max = np.zeros((n_points, n_points, len(box_sides)))\n",
    "grid_points = np.arange(n_points)\n",
    "for i in grid_points:\n",
    "    for j in grid_points:\n",
    "        center = np.array([i,j])\n",
    "        np.random.shuffle(box_sides)\n",
    "        sides = np.diag(box_sides).dot(np.random.rand(2))\n",
    "        box_min[i,j] = center - sides\n",
    "        box_max[i,j] = center + sides"
   ]
  },
  {
   "cell_type": "code",
   "execution_count": null,
   "id": "ecb629ac",
   "metadata": {},
   "outputs": [],
   "source": [
    "def plot_boxes(box_min, box_max):\n",
    "    for i in grid_points:\n",
    "        for j in grid_points:\n",
    "#             plt.text(i, j, f'({i},{j})')\n",
    "            rect = Rectangle(box_min[i,j], *(box_max[i,j] - box_min[i,j]), fc='lightcyan', ec='k')#, alpha=.5)\n",
    "            plt.gca().add_patch(rect)\n",
    "    reach = max(box_sides)\n",
    "    plt.xlim([-reach, len(grid_points) + reach - 1])\n",
    "    plt.ylim([-reach, len(grid_points) + reach - 1])\n",
    "\n",
    "plt.figure(figsize=(9, 9))\n",
    "plot_boxes(box_min, box_max)"
   ]
  },
  {
   "cell_type": "code",
   "execution_count": null,
   "id": "3e560e7c",
   "metadata": {},
   "outputs": [],
   "source": [
    "s = 's'\n",
    "t = 't'\n",
    "vertices = [s, t]\n",
    "\n",
    "inters = {(i,j): [] for i in range(n_points) for j in range(n_points)}\n",
    "inter_boxes = {}\n",
    "centers = {}\n",
    "reach = int(max(2 * box_sides))\n",
    "min_reach = lambda i: max(i - reach, 0)\n",
    "max_reach = lambda i: min(i + reach + 1, n_points)\n",
    "\n",
    "start = time()\n",
    "for i in grid_points:\n",
    "    i_range = range(i, max_reach(i))\n",
    "    for j in grid_points:\n",
    "        j_range = range(min_reach(j), max_reach(j))\n",
    "        for ii in i_range:\n",
    "            for jj in j_range:\n",
    "                if ii > i or jj > j:\n",
    "                    bl = np.maximum(box_min[i,j], box_min[ii,jj])\n",
    "                    tr = np.minimum(box_max[i,j], box_max[ii,jj])\n",
    "                    if all(bl <= tr):\n",
    "                        b1 = (i,j)\n",
    "                        b2 = (ii,jj)\n",
    "                        inters[b1].append(b2)\n",
    "                        inters[b2].append(b1)\n",
    "                        v = (b1, b2)\n",
    "                        vertices.append(v)\n",
    "                        inter_boxes[v] = (bl, tr)\n",
    "                        centers[v] = (bl + tr) / 2\n",
    "time() - start"
   ]
  },
  {
   "cell_type": "code",
   "execution_count": null,
   "id": "badcfcf8",
   "metadata": {},
   "outputs": [],
   "source": [
    "start = time()\n",
    "edges = []\n",
    "lengths = []\n",
    "\n",
    "def vertex(b1, b2):\n",
    "    if (b2[0] >= b1[0]) and (b2[0] > b1[0] or b2[1] > b1[1]):\n",
    "        return (b1, b2)\n",
    "    else:\n",
    "        return (b2, b1)\n",
    "\n",
    "for b0 in inters:\n",
    "    for b1, b2 in product(inters[b0], inters[b0]):\n",
    "        if b1 != b2:\n",
    "            u = vertex(b0, b1)\n",
    "            v = vertex(b0, b2)\n",
    "            edges.append((u, v))\n",
    "            duv = np.linalg.norm(centers[u] - centers[v])\n",
    "            lengths.append(duv)\n",
    "time() - start"
   ]
  },
  {
   "cell_type": "code",
   "execution_count": null,
   "id": "f33ffa2f",
   "metadata": {},
   "outputs": [],
   "source": [
    "out_s = [(s, v) for v in vertices[2:] if v[0] == (0, 0)]\n",
    "inc_t = [(v, t) for v in vertices[2:] if v[1] == (n_points - 1, n_points - 1)]\n",
    "aux_edges = out_s + inc_t\n",
    "edges += aux_edges\n",
    "lengths += [0] * len(aux_edges)"
   ]
  },
  {
   "cell_type": "code",
   "execution_count": null,
   "id": "88d60268",
   "metadata": {},
   "outputs": [],
   "source": [
    "G = nx.DiGraph()\n",
    "G.add_nodes_from(vertices)\n",
    "G.add_edges_from(edges)\n",
    "for e, l in zip(edges, lengths):\n",
    "    G.edges[e]['weight'] = l"
   ]
  },
  {
   "cell_type": "code",
   "execution_count": null,
   "id": "5f45dd21",
   "metadata": {},
   "outputs": [],
   "source": [
    "tic = time()\n",
    "path = nx.shortest_path(G, source=s, target=t, weight='weight')\n",
    "time() - tic"
   ]
  },
  {
   "cell_type": "code",
   "execution_count": null,
   "id": "72086de6",
   "metadata": {},
   "outputs": [],
   "source": [
    "import cvxpy as cp\n",
    "\n",
    "variables = {}\n",
    "constraints = []\n",
    "cost = 0\n",
    "x_prev = None\n",
    "for v in path[1:-1]:\n",
    "    variables[v] = cp.Variable(2)\n",
    "    constraints.append(variables[v] >= inter_boxes[v][0])\n",
    "    constraints.append(variables[v] <= inter_boxes[v][1])\n",
    "    if x_prev is not None:\n",
    "        cost += cp.norm(variables[v] - x_prev, 2)\n",
    "    x_prev = variables[v]\n",
    "\n",
    "prob = cp.Problem(cp.Minimize(cost), constraints)\n",
    "prob.solve()\n",
    "traj_opt = np.array([x.value for x in variables.values()])\n",
    "prob.solver_stats.solve_time"
   ]
  },
  {
   "cell_type": "code",
   "execution_count": null,
   "id": "3d5cfb21",
   "metadata": {},
   "outputs": [],
   "source": [
    "traj = np.array([centers[v] for v in path[1:-1]])\n",
    "length = sum(np.linalg.norm(y - x) for x, y in zip(traj[:-1], traj[1:]))\n",
    "\n",
    "plt.figure(figsize=(9, 9))\n",
    "plot_boxes(box_min, box_max)\n",
    "plt.plot(*traj.T, c='r')\n",
    "plt.plot(*traj_opt.T, c='b')\n",
    "plt.savefig('path_planning.pdf', bbox_inches='tight')\n",
    "length, prob.value"
   ]
  },
  {
   "cell_type": "code",
   "execution_count": null,
   "id": "4f6ddbd6",
   "metadata": {},
   "outputs": [],
   "source": []
  }
 ],
 "metadata": {
  "kernelspec": {
   "display_name": "Python 3",
   "language": "python",
   "name": "python3"
  },
  "language_info": {
   "codemirror_mode": {
    "name": "ipython",
    "version": 3
   },
   "file_extension": ".py",
   "mimetype": "text/x-python",
   "name": "python",
   "nbconvert_exporter": "python",
   "pygments_lexer": "ipython3",
   "version": "3.9.10"
  }
 },
 "nbformat": 4,
 "nbformat_minor": 5
}
