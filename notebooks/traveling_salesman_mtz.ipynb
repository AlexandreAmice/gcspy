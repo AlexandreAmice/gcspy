{
 "cells": [
  {
   "cell_type": "code",
   "execution_count": null,
   "id": "dfd76f13",
   "metadata": {},
   "outputs": [],
   "source": [
    "%matplotlib notebook\n",
    "%load_ext autoreload\n",
    "%autoreload 2"
   ]
  },
  {
   "cell_type": "code",
   "execution_count": null,
   "id": "ffbeecf3",
   "metadata": {},
   "outputs": [],
   "source": [
    "import cvxpy as cp\n",
    "import numpy as np\n",
    "from gcspy import GraphOfConvexSets"
   ]
  },
  {
   "cell_type": "code",
   "execution_count": null,
   "id": "9d1746f9",
   "metadata": {},
   "outputs": [],
   "source": [
    "gcs = GraphOfConvexSets()\n",
    "\n",
    "v1 = gcs.add_vertex(\"v1\")\n",
    "x1 = v1.add_variable(2)\n",
    "c1 = np.array([-3, 0])\n",
    "v1.add_constraint(cp.norm(x1 - c1, np.inf) <= 1)\n",
    "o1 = v1.add_variable(1)\n",
    "v1.add_constraint(o1 == 1)\n",
    "\n",
    "v2 = gcs.add_vertex(\"v2\")\n",
    "x2 = v2.add_variable(2)\n",
    "c2 = np.array([0, 2.5])\n",
    "D2 = np.diag([.25, 2])\n",
    "v2.add_constraint(cp.norm(D2 @ (x2 - c2), np.inf) <= 1)\n",
    "o2 = v2.add_variable(1)\n",
    "v2.add_constraint(o2 >= 1)\n",
    "\n",
    "v3 = gcs.add_vertex(\"v3\")\n",
    "x3 = v3.add_variable(2)\n",
    "c3 = np.array([3, 0])\n",
    "v3.add_constraint(cp.norm(x3 - c3, 2) <= 1)\n",
    "o3 = v3.add_variable(1)\n",
    "v3.add_constraint(o3 >= 1)\n",
    "\n",
    "v4 = gcs.add_vertex(\"v4\")\n",
    "x4 = v4.add_variable(2)\n",
    "c4 = np.array([0, -2.5])\n",
    "D4 = np.diag([1, 2])\n",
    "v4.add_constraint(cp.norm(D4 @ (x4 - c4), 2) <= 1)\n",
    "o4 = v4.add_variable(1)\n",
    "v4.add_constraint(o4 >= 1)\n",
    "\n",
    "v5 = gcs.add_vertex(\"v5\")\n",
    "x5 = v5.add_variable(2)\n",
    "c5 = np.array([.3, .3])\n",
    "v5.add_constraint(cp.norm(x5 - c5, 1) <= 1)\n",
    "o5 = v5.add_variable(1)\n",
    "v5.add_constraint(o5 >= 1)\n",
    "\n",
    "for v in gcs.vertices:\n",
    "    o = v.variables[-1]\n",
    "    v.add_constraint(o <= gcs.num_vertices())"
   ]
  },
  {
   "cell_type": "code",
   "execution_count": null,
   "id": "7816b994",
   "metadata": {},
   "outputs": [],
   "source": [
    "for tail in gcs.vertices:\n",
    "    for head in gcs.vertices:\n",
    "        if tail != head:\n",
    "            edge = gcs.add_edge(tail, head)\n",
    "            edge.add_cost(cp.norm(tail.variables[0] - head.variables[0], 2))\n",
    "            if head.name != \"v1\":\n",
    "                edge.add_constraint(head.variables[1] == tail.variables[1] + 1)"
   ]
  },
  {
   "cell_type": "code",
   "execution_count": null,
   "id": "c9bda818",
   "metadata": {},
   "outputs": [],
   "source": [
    "gcs.graphviz()"
   ]
  },
  {
   "cell_type": "code",
   "execution_count": null,
   "id": "e0e37c42",
   "metadata": {},
   "outputs": [],
   "source": [
    "prob = gcs.solve_traveling_salesman(subtour_elimination=False)\n",
    "print('Problem status:', prob.status)\n",
    "print('Optimal value:', prob.value)\n",
    "print('Vertex binaries:', {vertex.name: np.round(vertex.y.value, 4) for vertex in gcs.vertices})\n",
    "print('Edge binaries:', {edge.name: np.round(edge.y.value, 4) for edge in gcs.edges})"
   ]
  },
  {
   "cell_type": "code",
   "execution_count": null,
   "id": "5d8f96ac",
   "metadata": {},
   "outputs": [],
   "source": [
    "import matplotlib.pyplot as plt\n",
    "plt.figure()\n",
    "plt.gca().set_aspect('equal')\n",
    "plt.axis('off')\n",
    "gcs.plot_2d()\n",
    "gcs.plot_subgraph_2d()\n",
    "# plt.savefig('traveling_salesman.pdf')"
   ]
  },
  {
   "cell_type": "markdown",
   "id": "b492283f",
   "metadata": {},
   "source": [
    "# From ILP"
   ]
  },
  {
   "cell_type": "code",
   "execution_count": null,
   "id": "161ab8ce",
   "metadata": {},
   "outputs": [],
   "source": [
    "from itertools import combinations\n",
    "\n",
    "ilp_constraints = []\n",
    "yv = gcs.vertex_binaries()\n",
    "ye = gcs.edge_binaries()\n",
    "\n",
    "for i, v in enumerate(gcs.vertices):\n",
    "    inc_edges = gcs.incoming_indices(v)\n",
    "    out_edges = gcs.outgoing_indices(v)\n",
    "    ilp_constraints.append(yv[i] == 1)\n",
    "    ilp_constraints.append(sum(ye[out_edges]) == 1)\n",
    "    ilp_constraints.append(sum(ye[inc_edges]) == 1)\n",
    "\n",
    "subtour_constraints = []\n",
    "for r in range(2, gcs.num_vertices() - 1):\n",
    "    for vertices in combinations(gcs.vertices, r):\n",
    "        out_edges = gcs.outgoing_indices(vertices)\n",
    "        subtour_constraints.append(sum(ye[out_edges]) >= 1)"
   ]
  },
  {
   "cell_type": "code",
   "execution_count": null,
   "id": "e09cf8b4",
   "metadata": {},
   "outputs": [],
   "source": [
    "prob = gcs.solve_from_ilp(ilp_constraints + subtour_constraints)\n",
    "print('Problem status:', prob.status)\n",
    "print('Optimal value:', prob.value)"
   ]
  },
  {
   "cell_type": "markdown",
   "id": "dbf89d57",
   "metadata": {},
   "source": [
    "# Solver callback"
   ]
  },
  {
   "cell_type": "code",
   "execution_count": null,
   "id": "c30b0cdd",
   "metadata": {},
   "outputs": [],
   "source": [
    "def expand_cycle(gcs, vertex, ye_values):\n",
    "    cycle = [vertex]\n",
    "    while True:\n",
    "        out_edges = gcs.outgoing_indices(cycle[-1])\n",
    "        y_out = ye_values[out_edges]\n",
    "        k = out_edges[np.argmax(y_out)]\n",
    "        next_vertex = gcs.edges[k].head\n",
    "        if next_vertex == cycle[0]:\n",
    "            break\n",
    "        cycle.append(next_vertex)\n",
    "    return cycle\n",
    "\n",
    "def shortest_subtour(gcs, ye_values):\n",
    "    vertices_left = gcs.vertices\n",
    "    subtour = gcs.vertices\n",
    "    while len(vertices_left) > 0:\n",
    "        new_subtour = expand_cycle(gcs, vertices_left[0], ye_values)\n",
    "        if len(new_subtour) < len(subtour):\n",
    "            subtour = new_subtour\n",
    "        vertices_left = [v for v in vertices_left if v not in new_subtour]\n",
    "    return subtour\n",
    "\n",
    "def subtour_elimination(yv, ye):\n",
    "    ye_value = np.array([y.value for y in ye])\n",
    "    subtour = shortest_subtour(gcs, ye_value)\n",
    "    if len(subtour) == gcs.num_vertices():\n",
    "        return []\n",
    "    else:\n",
    "        print(f\"Eliminated subtour with {len(subtour)} vertices.\")\n",
    "        out_edges = gcs.outgoing_indices(subtour)\n",
    "        return [sum(ye[out_edges]) >= 1]"
   ]
  },
  {
   "cell_type": "code",
   "execution_count": null,
   "id": "18adf7e5",
   "metadata": {},
   "outputs": [],
   "source": [
    "prob = gcs.solve_from_ilp(ilp_constraints, callback=subtour_elimination)\n",
    "print('Problem status:', prob.status)\n",
    "print('Optimal value:', prob.value)"
   ]
  },
  {
   "cell_type": "code",
   "execution_count": null,
   "id": "b3e37c13",
   "metadata": {},
   "outputs": [],
   "source": []
  }
 ],
 "metadata": {
  "kernelspec": {
   "display_name": "Python 3 (ipykernel)",
   "language": "python",
   "name": "python3"
  },
  "language_info": {
   "codemirror_mode": {
    "name": "ipython",
    "version": 3
   },
   "file_extension": ".py",
   "mimetype": "text/x-python",
   "name": "python",
   "nbconvert_exporter": "python",
   "pygments_lexer": "ipython3",
   "version": "3.11.2"
  }
 },
 "nbformat": 4,
 "nbformat_minor": 5
}
