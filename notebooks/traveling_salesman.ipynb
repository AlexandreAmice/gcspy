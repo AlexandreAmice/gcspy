{
 "cells": [
  {
   "cell_type": "code",
   "execution_count": null,
   "id": "dfd76f13",
   "metadata": {},
   "outputs": [],
   "source": [
    "%matplotlib notebook\n",
    "%load_ext autoreload\n",
    "%autoreload 2"
   ]
  },
  {
   "cell_type": "code",
   "execution_count": null,
   "id": "ffbeecf3",
   "metadata": {},
   "outputs": [],
   "source": [
    "import cvxpy as cp\n",
    "from gcspy import GraphOfConvexSets"
   ]
  },
  {
   "cell_type": "code",
   "execution_count": null,
   "id": "9d1746f9",
   "metadata": {},
   "outputs": [],
   "source": [
    "# initialize graph\n",
    "gcs = GraphOfConvexSets()\n",
    "\n",
    "# first vertex\n",
    "v1 = gcs.add_vertex(\"v1\")\n",
    "x1 = v1.add_variable(2)\n",
    "v1.add_constraint(x1 >= [-3, -1])\n",
    "v1.add_constraint(x1 <= [-2, 0])\n",
    "\n",
    "# second vertex\n",
    "v2 = gcs.add_vertex('v2')\n",
    "x2 = v2.add_variable(2)\n",
    "v2.add_constraint(x2 >= [-1, 1])\n",
    "v2.add_constraint(x2 <= [1, 2])\n",
    "\n",
    "# third vertex, quadratic cost on displacement from center\n",
    "v3 = gcs.add_vertex(\"v3\")\n",
    "x3 = v3.add_variable(2)\n",
    "d3 = cp.sum_squares(x3 - [2, 0])\n",
    "v3.add_constraint(d3 <= .5)\n",
    "v3.add_cost(2 * d3)\n",
    "\n",
    "# fourth vertex\n",
    "v4 = gcs.add_vertex(\"v4\")\n",
    "x4 = v4.add_variable(2)\n",
    "v4.add_constraint(cp.sum_squares(x4 - [0, -2]) <= .2)\n",
    "\n",
    "# fifth vertex\n",
    "v5 = gcs.add_vertex(\"v5\")\n",
    "x5 = v5.add_variable(2)\n",
    "v5.add_constraint(cp.norm(x5, 1) <= .2)\n",
    "\n",
    "# complete graph\n",
    "for u in gcs.vertices:\n",
    "    for v in gcs.vertices:\n",
    "        if u != v:\n",
    "            e = gcs.add_edge(u, v)\n",
    "            e.add_cost(cp.norm(u.variables[0] - v.variables[0], 2))"
   ]
  },
  {
   "cell_type": "code",
   "execution_count": null,
   "id": "c9bda818",
   "metadata": {},
   "outputs": [],
   "source": [
    "from gcspy import graphviz_gcs\n",
    "graphviz_gcs(gcs)"
   ]
  },
  {
   "cell_type": "code",
   "execution_count": null,
   "id": "e0e37c42",
   "metadata": {},
   "outputs": [],
   "source": [
    "prob = gcs.traveling_salesman()\n",
    "print('Problem status:', prob.status)\n",
    "print('Optimal value:', prob.value)\n",
    "print('Vertex binaries:', {vertex.name: round(vertex.value, 4) for vertex in gcs.vertices})\n",
    "print('Edge binaries:', {edge.name: round(edge.value, 4) for edge in gcs.edges})"
   ]
  },
  {
   "cell_type": "code",
   "execution_count": null,
   "id": "5d8f96ac",
   "metadata": {},
   "outputs": [],
   "source": [
    "import matplotlib.pyplot as plt\n",
    "from gcspy import plot_gcs_2d\n",
    "plt.figure()\n",
    "plot_gcs_2d(gcs)"
   ]
  }
 ],
 "metadata": {
  "kernelspec": {
   "display_name": "Python 3 (ipykernel)",
   "language": "python",
   "name": "python3"
  },
  "language_info": {
   "codemirror_mode": {
    "name": "ipython",
    "version": 3
   },
   "file_extension": ".py",
   "mimetype": "text/x-python",
   "name": "python",
   "nbconvert_exporter": "python",
   "pygments_lexer": "ipython3",
   "version": "3.11.2"
  }
 },
 "nbformat": 4,
 "nbformat_minor": 5
}
