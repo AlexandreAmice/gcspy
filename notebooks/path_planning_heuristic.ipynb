{
 "cells": [
  {
   "cell_type": "code",
   "execution_count": null,
   "id": "73f405fc",
   "metadata": {},
   "outputs": [],
   "source": [
    "%matplotlib notebook\n",
    "%load_ext autoreload\n",
    "%autoreload 2"
   ]
  },
  {
   "cell_type": "code",
   "execution_count": null,
   "id": "91b70de9",
   "metadata": {},
   "outputs": [],
   "source": [
    "import numpy as np\n",
    "import cvxpy as cp\n",
    "import networkx as nx\n",
    "import matplotlib.pyplot as plt\n",
    "\n",
    "from time import time\n",
    "from itertools import product\n",
    "from matplotlib.patches import Rectangle"
   ]
  },
  {
   "cell_type": "code",
   "execution_count": null,
   "id": "1ff7ef39",
   "metadata": {},
   "outputs": [],
   "source": [
    "np.random.seed(1)\n",
    "grid_points = np.arange(101)\n",
    "box_sides = [2, .5]\n",
    "boxes = []\n",
    "for i in grid_points:\n",
    "    for j in grid_points:\n",
    "        center = np.array([i, j])\n",
    "        np.random.shuffle(box_sides)\n",
    "        sides = np.diag(box_sides).dot(np.random.rand(2))\n",
    "        boxes.append((center - sides, center + sides))"
   ]
  },
  {
   "cell_type": "code",
   "execution_count": null,
   "id": "ecb629ac",
   "metadata": {},
   "outputs": [],
   "source": [
    "def plot_boxes(boxes):\n",
    "    for i, box in enumerate(boxes):\n",
    "#         plt.text(*(box[1] + box[0])/2, i)\n",
    "        plt.gca().add_patch(Rectangle(box[0], *(box[1] - box[0]), fc='lightcyan', ec='k'))\n",
    "    plt.xlim([-2, len(grid_points) + 2])\n",
    "    plt.ylim([-2, len(grid_points) + 2])\n",
    "\n",
    "plt.figure(figsize=(9, 9))\n",
    "plot_boxes(boxes)"
   ]
  },
  {
   "cell_type": "markdown",
   "id": "6128018a",
   "metadata": {},
   "source": [
    "start = time()\n",
    "pairs = np.array([(i, j) for i in range(len(boxes)) for j in range(i)])\n",
    "min_pairs = np.array([(b1[0], b2[0]) for i, b1 in enumerate(boxes) for b2 in boxes[:i]])\n",
    "max_pairs = np.array([(b1[1], b2[1]) for i, b1 in enumerate(boxes) for b2 in boxes[:i]])\n",
    "a = np.max(min_pairs, axis=1)\n",
    "b = np.min(max_pairs, axis=1)\n",
    "d = b - a\n",
    "idx = [i for i, di in enumerate(d) if all(di >= 0)]\n",
    "time() - start, len(pairs[idx])"
   ]
  },
  {
   "cell_type": "markdown",
   "id": "2ed795f8",
   "metadata": {},
   "source": [
    "bottom = np.array([b[0] for b in boxes])\n",
    "top = np.array([b[1] for b in boxes])\n",
    "limits = np.hstack((bottom, top))\n",
    "start = time()\n",
    "vertices = []\n",
    "for i, l1 in enumerate(zip(bottom, top)):\n",
    "    for j, l2 in enumerate(zip(bottom[:i], top[:i])):\n",
    "        if all(np.maximum(l1[0], l2[0]) <= np.minimum(l1[1], l2[1])):\n",
    "            vertices.append((i, j))\n",
    "time() - start, len(vertices)"
   ]
  },
  {
   "cell_type": "code",
   "execution_count": null,
   "id": "29437fe9",
   "metadata": {},
   "outputs": [],
   "source": [
    "s = 's'\n",
    "t = 't'\n",
    "vertices = [s, t]\n",
    "inter = {i: [] for i in range(len(boxes))}\n",
    "intersections = {}\n",
    "centers = {}\n",
    "start = time()\n",
    "for i, box1 in enumerate(boxes):\n",
    "    for j, box2 in enumerate(boxes[:i]):\n",
    "        bl = np.maximum(box1[0], box2[0])\n",
    "        tr = np.minimum(box1[1], box2[1])\n",
    "        if all(bl <= tr):\n",
    "            v = (i, j)\n",
    "            vertices.append(v)\n",
    "            intersections[v] = (bl, tr)\n",
    "            centers[v] = (bl + tr) / 2\n",
    "            inter[i].append(v)\n",
    "            inter[j].append(v)\n",
    "time() - start"
   ]
  },
  {
   "cell_type": "code",
   "execution_count": null,
   "id": "badcfcf8",
   "metadata": {},
   "outputs": [],
   "source": [
    "start = time()\n",
    "edges = []    \n",
    "lengths = []\n",
    "for i in inter:\n",
    "    for u, v in product(inter[i], inter[i]):\n",
    "        if u != v:\n",
    "            edges.append((u, v))\n",
    "            duv = np.linalg.norm(centers[u] - centers[v])\n",
    "            lengths.append(duv)\n",
    "time() - start"
   ]
  },
  {
   "cell_type": "code",
   "execution_count": null,
   "id": "f33ffa2f",
   "metadata": {},
   "outputs": [],
   "source": [
    "out_s = [(s, v) for v in vertices[2:] if v[1] == 0]\n",
    "inc_t = [(v, t) for v in vertices[2:] if v[0] == len(boxes) - 1]\n",
    "aux_edges = out_s + inc_t\n",
    "edges += aux_edges\n",
    "lengths += [0] * len(aux_edges)"
   ]
  },
  {
   "cell_type": "code",
   "execution_count": null,
   "id": "88d60268",
   "metadata": {},
   "outputs": [],
   "source": [
    "G = nx.DiGraph()\n",
    "G.add_nodes_from(vertices)\n",
    "G.add_edges_from(edges)\n",
    "for e, l in zip(edges, lengths):\n",
    "    G.edges[e]['weight'] = l"
   ]
  },
  {
   "cell_type": "code",
   "execution_count": null,
   "id": "5f45dd21",
   "metadata": {},
   "outputs": [],
   "source": [
    "tic = time()\n",
    "path = nx.shortest_path(G, source=s, target=t, weight='weight')\n",
    "time() - tic"
   ]
  },
  {
   "cell_type": "code",
   "execution_count": null,
   "id": "72086de6",
   "metadata": {},
   "outputs": [],
   "source": [
    "import cvxpy as cp\n",
    "\n",
    "variables = {}\n",
    "constraints = []\n",
    "cost = 0\n",
    "x_prev = None\n",
    "for v in path[1:-1]:\n",
    "    variables[v] = cp.Variable(2)\n",
    "    constraints.append(variables[v] >= intersections[v][0])\n",
    "    constraints.append(variables[v] <= intersections[v][1])\n",
    "    if x_prev is not None:\n",
    "        cost += cp.norm(variables[v] - x_prev, 2)\n",
    "    x_prev = variables[v]\n",
    "\n",
    "prob = cp.Problem(cp.Minimize(cost), constraints)\n",
    "prob.solve()\n",
    "traj_opt = np.array([x.value for x in variables.values()])\n",
    "prob.solver_stats.solve_time"
   ]
  },
  {
   "cell_type": "code",
   "execution_count": null,
   "id": "3d5cfb21",
   "metadata": {},
   "outputs": [],
   "source": [
    "traj = np.array([centers[v] for v in path[1:-1]])\n",
    "length = sum(np.linalg.norm(y - x) for x, y in zip(traj[:-1], traj[1:]))\n",
    "\n",
    "plt.figure(figsize=(9, 9))\n",
    "plot_boxes(boxes)\n",
    "plt.plot(*traj.T, c='r')\n",
    "plt.plot(*traj_opt.T, c='b')\n",
    "plt.savefig('path_planning.pdf', bbox_inches='tight')\n",
    "length, prob.value"
   ]
  }
 ],
 "metadata": {
  "kernelspec": {
   "display_name": "Python 3",
   "language": "python",
   "name": "python3"
  },
  "language_info": {
   "codemirror_mode": {
    "name": "ipython",
    "version": 3
   },
   "file_extension": ".py",
   "mimetype": "text/x-python",
   "name": "python",
   "nbconvert_exporter": "python",
   "pygments_lexer": "ipython3",
   "version": "3.9.10"
  }
 },
 "nbformat": 4,
 "nbformat_minor": 5
}
